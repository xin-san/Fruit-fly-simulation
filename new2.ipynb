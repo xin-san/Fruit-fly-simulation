{
 "cells": [
  {
   "cell_type": "code",
   "execution_count": 2,
   "metadata": {},
   "outputs": [],
   "source": [
    "import nest\n",
    "import pandas as pd\n",
    "nest.ResetKernel()"
   ]
  },
  {
   "cell_type": "code",
   "execution_count": 4,
   "metadata": {},
   "outputs": [
    {
     "data": {
      "text/html": [
       "<div>\n",
       "<style scoped>\n",
       "    .dataframe tbody tr th:only-of-type {\n",
       "        vertical-align: middle;\n",
       "    }\n",
       "\n",
       "    .dataframe tbody tr th {\n",
       "        vertical-align: top;\n",
       "    }\n",
       "\n",
       "    .dataframe thead th {\n",
       "        text-align: right;\n",
       "    }\n",
       "</style>\n",
       "<table border=\"1\" class=\"dataframe\">\n",
       "  <thead>\n",
       "    <tr style=\"text-align: right;\">\n",
       "      <th></th>\n",
       "      <th>pre_root_id</th>\n",
       "      <th>post_root_id</th>\n",
       "      <th>neuropil</th>\n",
       "      <th>syn_count</th>\n",
       "      <th>nt_type</th>\n",
       "    </tr>\n",
       "  </thead>\n",
       "  <tbody>\n",
       "    <tr>\n",
       "      <th>0</th>\n",
       "      <td>720575940629970489</td>\n",
       "      <td>720575940631267655</td>\n",
       "      <td>AVLP_R</td>\n",
       "      <td>7</td>\n",
       "      <td>GABA</td>\n",
       "    </tr>\n",
       "    <tr>\n",
       "      <th>1</th>\n",
       "      <td>720575940623828999</td>\n",
       "      <td>720575940612348950</td>\n",
       "      <td>SLP_R</td>\n",
       "      <td>4</td>\n",
       "      <td>GLUT</td>\n",
       "    </tr>\n",
       "    <tr>\n",
       "      <th>2</th>\n",
       "      <td>720575940624078484</td>\n",
       "      <td>720575940616950161</td>\n",
       "      <td>SMP_R</td>\n",
       "      <td>2</td>\n",
       "      <td>ACH</td>\n",
       "    </tr>\n",
       "    <tr>\n",
       "      <th>3</th>\n",
       "      <td>720575940629583345</td>\n",
       "      <td>720575940620324735</td>\n",
       "      <td>SMP_L</td>\n",
       "      <td>2</td>\n",
       "      <td>GLUT</td>\n",
       "    </tr>\n",
       "    <tr>\n",
       "      <th>4</th>\n",
       "      <td>720575940605876866</td>\n",
       "      <td>720575940606514878</td>\n",
       "      <td>LAL_R</td>\n",
       "      <td>15</td>\n",
       "      <td>GABA</td>\n",
       "    </tr>\n",
       "  </tbody>\n",
       "</table>\n",
       "</div>"
      ],
      "text/plain": [
       "          pre_root_id        post_root_id neuropil  syn_count nt_type\n",
       "0  720575940629970489  720575940631267655   AVLP_R          7    GABA\n",
       "1  720575940623828999  720575940612348950    SLP_R          4    GLUT\n",
       "2  720575940624078484  720575940616950161    SMP_R          2     ACH\n",
       "3  720575940629583345  720575940620324735    SMP_L          2    GLUT\n",
       "4  720575940605876866  720575940606514878    LAL_R         15    GABA"
      ]
     },
     "execution_count": 4,
     "metadata": {},
     "output_type": "execute_result"
    }
   ],
   "source": [
    "data = pd.read_csv('point_zero_one_percent.csv')\n",
    "data_TOTAL = pd.read_csv('connections_no_threshold.csv.gz')\n",
    "data_TOTAL.head()"
   ]
  },
  {
   "cell_type": "code",
   "execution_count": 5,
   "metadata": {},
   "outputs": [
    {
     "data": {
      "text/plain": [
       "array(['GABA', 'GLUT', 'ACH', 'DA', 'SER', 'OCT'], dtype=object)"
      ]
     },
     "execution_count": 5,
     "metadata": {},
     "output_type": "execute_result"
    }
   ],
   "source": [
    "data_TOTAL['nt_type'].unique()"
   ]
  },
  {
   "cell_type": "code",
   "execution_count": null,
   "metadata": {},
   "outputs": [],
   "source": []
  }
 ],
 "metadata": {
  "kernelspec": {
   "display_name": "connectome_data",
   "language": "python",
   "name": "python3"
  },
  "language_info": {
   "codemirror_mode": {
    "name": "ipython",
    "version": 3
   },
   "file_extension": ".py",
   "mimetype": "text/x-python",
   "name": "python",
   "nbconvert_exporter": "python",
   "pygments_lexer": "ipython3",
   "version": "3.12.4"
  }
 },
 "nbformat": 4,
 "nbformat_minor": 2
}
