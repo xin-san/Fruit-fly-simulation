{
 "cells": [
  {
   "cell_type": "code",
   "execution_count": 2,
   "id": "5c270108-b7ed-4af6-8063-626877500194",
   "metadata": {},
   "outputs": [],
   "source": [
    "import networkx as nx "
   ]
  },
  {
   "cell_type": "code",
   "execution_count": 3,
   "id": "a12b35b0-8844-4a11-83e4-3c96da0eb04a",
   "metadata": {},
   "outputs": [],
   "source": [
    "G = nx.Graph()"
   ]
  },
  {
   "cell_type": "code",
   "execution_count": 4,
   "id": "7604e5d4-565e-48c2-8048-052dde5701cc",
   "metadata": {},
   "outputs": [],
   "source": [
    "G.add_node(1)"
   ]
  },
  {
   "cell_type": "code",
   "execution_count": 5,
   "id": "6a77ba6d-ee14-4259-82d1-96e2bd692ec5",
   "metadata": {},
   "outputs": [],
   "source": [
    "G.add_nodes_from([2,3])"
   ]
  },
  {
   "cell_type": "code",
   "execution_count": 6,
   "id": "252b4416-1383-4bcf-a494-df9e67a9ddff",
   "metadata": {},
   "outputs": [],
   "source": [
    "G.add_nodes_from([(4, {'colors': 'red'}), (5, {'color': 'green'})])"
   ]
  },
  {
   "cell_type": "code",
   "execution_count": 7,
   "id": "a6793f93-8f65-4331-8e4b-ce1919dcbcb8",
   "metadata": {},
   "outputs": [],
   "source": [
    "H = nx.path_graph(10)\n",
    "G.add_nodes_from(H)"
   ]
  },
  {
   "cell_type": "code",
   "execution_count": 8,
   "id": "c09b9843-1a4f-4ff3-be04-ef45214b54d2",
   "metadata": {},
   "outputs": [
    {
     "data": {
      "text/plain": [
       "[1, 2, 3, 4, 5, 0, 6, 7, 8, 9, <networkx.classes.graph.Graph at 0x214aee2be10>]"
      ]
     },
     "execution_count": 8,
     "metadata": {},
     "output_type": "execute_result"
    }
   ],
   "source": [
    "G.add_node(H)\n",
    "list(G.nodes)"
   ]
  },
  {
   "cell_type": "code",
   "execution_count": 9,
   "id": "9f0e8ed0-c824-4eb8-bf08-e8feaa9ac2fe",
   "metadata": {},
   "outputs": [
    {
     "data": {
      "text/plain": [
       "[1,\n",
       " 2,\n",
       " 3,\n",
       " 4,\n",
       " 5,\n",
       " 0,\n",
       " 6,\n",
       " 7,\n",
       " 8,\n",
       " 9,\n",
       " <networkx.classes.graph.Graph at 0x214aee2be10>,\n",
       " 10,\n",
       " 11]"
      ]
     },
     "execution_count": 9,
     "metadata": {},
     "output_type": "execute_result"
    }
   ],
   "source": [
    "G.add_nodes_from([10,11])\n",
    "list(G.nodes)"
   ]
  },
  {
   "cell_type": "code",
   "execution_count": 10,
   "id": "b725c93e-2ac3-4eb6-91bd-d074f5c27c86",
   "metadata": {},
   "outputs": [],
   "source": [
    "G.add_edge(1,2)\n",
    "e = (2,3)\n",
    "G.add_edge(*e)"
   ]
  },
  {
   "cell_type": "code",
   "execution_count": 11,
   "id": "7e875583-302f-4fe4-95ce-443372c33a83",
   "metadata": {},
   "outputs": [],
   "source": [
    "G.add_edges_from([(1,2),(1,3)])"
   ]
  },
  {
   "cell_type": "code",
   "execution_count": 12,
   "id": "18e927bb-2d33-4bee-b146-b482165a2fb2",
   "metadata": {},
   "outputs": [
    {
     "data": {
      "text/plain": [
       "[1,\n",
       " 2,\n",
       " 3,\n",
       " 4,\n",
       " 5,\n",
       " 0,\n",
       " 6,\n",
       " 7,\n",
       " 8,\n",
       " 9,\n",
       " <networkx.classes.graph.Graph at 0x214aee2be10>,\n",
       " 10,\n",
       " 11]"
      ]
     },
     "execution_count": 12,
     "metadata": {},
     "output_type": "execute_result"
    }
   ],
   "source": [
    "list(G)"
   ]
  },
  {
   "cell_type": "code",
   "execution_count": 13,
   "id": "5f892de2-1a31-4d4c-a9c0-639515548527",
   "metadata": {},
   "outputs": [
    {
     "data": {
      "text/plain": [
       "[(1, 2), (1, 3), (2, 3)]"
      ]
     },
     "execution_count": 13,
     "metadata": {},
     "output_type": "execute_result"
    }
   ],
   "source": [
    "G.add_edge(1,2)\n",
    "list(G.edges)"
   ]
  },
  {
   "cell_type": "code",
   "execution_count": 14,
   "id": "ed905b7b-2e31-4148-a14c-858b3f2a2154",
   "metadata": {},
   "outputs": [
    {
     "data": {
      "text/plain": [
       "[(1, 2), (1, 3), (2, 1), (2, 3), (3, 2), (3, 1)]"
      ]
     },
     "execution_count": 14,
     "metadata": {},
     "output_type": "execute_result"
    }
   ],
   "source": [
    "H = nx.DiGraph(G)\n",
    "list(H.edges)"
   ]
  },
  {
   "cell_type": "code",
   "execution_count": 15,
   "id": "bf722bc3-8631-4768-b6c3-fa67cae9e5ac",
   "metadata": {},
   "outputs": [
    {
     "data": {
      "text/plain": [
       "[(0, 1), (1, 2), (2, 3)]"
      ]
     },
     "execution_count": 15,
     "metadata": {},
     "output_type": "execute_result"
    }
   ],
   "source": [
    "edgelist = [(0,1), (1,2), (2,3)]\n",
    "H = nx.Graph(edgelist)\n",
    "list(H.edges)"
   ]
  },
  {
   "cell_type": "code",
   "execution_count": 16,
   "id": "d6047106-266b-49d9-8e63-0a1960b64602",
   "metadata": {},
   "outputs": [
    {
     "data": {
      "text/plain": [
       "[(0, 1), (0, 2), (1, 2)]"
      ]
     },
     "execution_count": 16,
     "metadata": {},
     "output_type": "execute_result"
    }
   ],
   "source": [
    "adjacency_dict = {0: (1,2), 1:(0,2), 2:(0,1)}\n",
    "H = nx.Graph(adjacency_dict)\n",
    "list(H.edges)"
   ]
  },
  {
   "cell_type": "code",
   "execution_count": 17,
   "id": "1dfd1906-60d2-470b-b1b7-478f8a32ee21",
   "metadata": {},
   "outputs": [
    {
     "data": {
      "text/plain": [
       "AtlasView({2: {'color': 'yellow'}})"
      ]
     },
     "execution_count": 17,
     "metadata": {},
     "output_type": "execute_result"
    }
   ],
   "source": [
    "G = nx.Graph([(1,2,{'color':'yellow'})])\n",
    "G[1]"
   ]
  },
  {
   "cell_type": "code",
   "execution_count": 18,
   "id": "71885667-13da-43db-b38b-d17acdb2dd8f",
   "metadata": {},
   "outputs": [
    {
     "data": {
      "text/plain": [
       "{'color': 'yellow'}"
      ]
     },
     "execution_count": 18,
     "metadata": {},
     "output_type": "execute_result"
    }
   ],
   "source": [
    "G[1][2]"
   ]
  },
  {
   "cell_type": "code",
   "execution_count": 19,
   "id": "8e61bb53-85de-492c-8b47-dd58028b179c",
   "metadata": {},
   "outputs": [
    {
     "data": {
      "text/plain": [
       "{'color': 'yellow'}"
      ]
     },
     "execution_count": 19,
     "metadata": {},
     "output_type": "execute_result"
    }
   ],
   "source": [
    "G.edges[1,2]"
   ]
  },
  {
   "cell_type": "code",
   "execution_count": 20,
   "id": "d9e98ae4-8101-4804-a61c-ab58a4c26b72",
   "metadata": {},
   "outputs": [],
   "source": [
    "G.add_edge(1,3)\n",
    "G[1][3]['color'] = 'blue'\n",
    "G.edges[1,2]['color'] = 'red'"
   ]
  },
  {
   "cell_type": "code",
   "execution_count": 21,
   "id": "9072c3a1-1c7b-4e0c-aafa-9864f041e04f",
   "metadata": {},
   "outputs": [
    {
     "name": "stdout",
     "output_type": "stream",
     "text": [
      "(1,2,0.125)\n",
      "(2,1,0.125)\n",
      "(3,4,0.375)\n",
      "(4,3,0.375)\n"
     ]
    }
   ],
   "source": [
    "FG = nx.Graph()\n",
    "FG.add_weighted_edges_from([(1,2,0.125), (1,3,0.75), (2,4,1.2), (3,4,0.375)])\n",
    "for n, nbrs in FG.adj.items():\n",
    "    for nbr, eatter in nbrs.items():\n",
    "        wt = eatter['weight']\n",
    "        if wt < 0.5: print(f'({n},{nbr},{wt:.3})')"
   ]
  },
  {
   "cell_type": "code",
   "execution_count": 22,
   "id": "dc27885d-2f50-4d5b-9763-c66bf161846a",
   "metadata": {},
   "outputs": [
    {
     "name": "stdout",
     "output_type": "stream",
     "text": [
      "(1, 2, 0.125)\n",
      "(3, 4, 0.375)\n"
     ]
    }
   ],
   "source": [
    "for (u, v, wt) in FG.edges.data('weight'):\n",
    "    if wt < 0.5:\n",
    "        print(f'({u}, {v}, {wt:.3})')"
   ]
  },
  {
   "cell_type": "code",
   "execution_count": 23,
   "id": "ed884296-fcc6-4ea2-b787-d8e9af6006ef",
   "metadata": {},
   "outputs": [
    {
     "data": {
      "text/plain": [
       "{'time': '5pm'}"
      ]
     },
     "execution_count": 23,
     "metadata": {},
     "output_type": "execute_result"
    }
   ],
   "source": [
    "G.add_node(1,time='5pm')\n",
    "G.nodes[1]"
   ]
  },
  {
   "cell_type": "code",
   "execution_count": 24,
   "id": "d2e86c04-a25a-4416-bad2-21eab8695518",
   "metadata": {},
   "outputs": [
    {
     "data": {
      "text/plain": [
       "NodeDataView({1: {'time': '5pm', 'room': 714}, 2: {}, 3: {}})"
      ]
     },
     "execution_count": 24,
     "metadata": {},
     "output_type": "execute_result"
    }
   ],
   "source": [
    "G.nodes[1]['room'] = 714\n",
    "G.nodes.data()"
   ]
  },
  {
   "cell_type": "code",
   "execution_count": 25,
   "id": "d4e385b0-f090-413a-aa36-e5a37565296c",
   "metadata": {},
   "outputs": [],
   "source": [
    "G.add_edge(1,2,weight=4.7)\n",
    "G.add_edges_from([(3,4),(4,5)], color='red')\n",
    "G.add_edges_from([(1,2, {'color': 'blue'}), (2,3, {'weight':8})])\n",
    "G[1][2]['weight'] = 4.7\n",
    "G.edges[3,4]['weight'] = 4.2"
   ]
  },
  {
   "cell_type": "code",
   "execution_count": 27,
   "id": "f71dbcf6-978a-4a00-be85-1c51fdd77c2e",
   "metadata": {},
   "outputs": [
    {
     "data": {
      "text/plain": [
       "1.1"
      ]
     },
     "execution_count": 27,
     "metadata": {},
     "output_type": "execute_result"
    }
   ],
   "source": [
    "DG = nx.DiGraph()\n",
    "DG.add_weighted_edges_from([(1,2,0.5),(3,1,0.75),(1,4,0.6)])\n",
    "DG.out_degree(1,weight='weight')"
   ]
  },
  {
   "cell_type": "code",
   "execution_count": 29,
   "id": "59baec8c-492a-4655-98c5-266784140be0",
   "metadata": {},
   "outputs": [
    {
     "data": {
      "text/plain": [
       "1.85"
      ]
     },
     "execution_count": 29,
     "metadata": {},
     "output_type": "execute_result"
    }
   ],
   "source": [
    "DG.degree(1, weight='weight')"
   ]
  },
  {
   "cell_type": "code",
   "execution_count": 30,
   "id": "de50b602-6a04-4ee0-b4d4-2ef94a9edf4f",
   "metadata": {},
   "outputs": [
    {
     "data": {
      "text/plain": [
       "[2, 4]"
      ]
     },
     "execution_count": 30,
     "metadata": {},
     "output_type": "execute_result"
    }
   ],
   "source": [
    "list(DG.successors(1))"
   ]
  },
  {
   "cell_type": "code",
   "execution_count": 31,
   "id": "2f4ec641-4932-45ab-ad90-bf0640a77eeb",
   "metadata": {},
   "outputs": [
    {
     "data": {
      "text/plain": [
       "[2, 4]"
      ]
     },
     "execution_count": 31,
     "metadata": {},
     "output_type": "execute_result"
    }
   ],
   "source": [
    "list(DG.neighbors(1))"
   ]
  },
  {
   "cell_type": "code",
   "execution_count": 33,
   "id": "185a1c02-cce0-44e1-9060-2824469003b3",
   "metadata": {},
   "outputs": [
    {
     "data": {
      "text/plain": [
       "{1: 1.25, 2: 1.75, 3: 0.5}"
      ]
     },
     "execution_count": 33,
     "metadata": {},
     "output_type": "execute_result"
    }
   ],
   "source": [
    "MG = nx.MultiGraph()\n",
    "MG.add_weighted_edges_from([(1,2,0.5),(1,2,0.75),(2,3,0.5)])\n",
    "dict(MG.degree(weight='weight'))"
   ]
  },
  {
   "cell_type": "code",
   "execution_count": 34,
   "id": "26822010-feca-422a-8f29-1ecb09c76dcc",
   "metadata": {},
   "outputs": [
    {
     "data": {
      "text/plain": [
       "[1, 3]"
      ]
     },
     "execution_count": 34,
     "metadata": {},
     "output_type": "execute_result"
    }
   ],
   "source": [
    "GG = nx.Graph()\n",
    "for n, nbrs in MG.adjacency():\n",
    "    for nbrs, edict in nbrs.items(): \n",
    "        minvalue = min([d['weight'] for d in edict.values()]) \n",
    "        GG.add_edge(n, nbr, weight = minvalue)\n",
    "\n",
    "nx.shortest_path(GG, 1, 3)"
   ]
  },
  {
   "cell_type": "code",
   "execution_count": 35,
   "id": "ac3561d5-82a5-4e47-8cbb-bbfd3843a18b",
   "metadata": {},
   "outputs": [
    {
     "data": {
      "text/plain": [
       "[{1, 2, 3}, {'spam'}]"
      ]
     },
     "execution_count": 35,
     "metadata": {},
     "output_type": "execute_result"
    }
   ],
   "source": [
    "G = nx.Graph()\n",
    "G.add_edges_from([(1,2),(1,3)])\n",
    "G.add_node('spam')\n",
    "list(nx.connected_components(G))"
   ]
  },
  {
   "cell_type": "code",
   "execution_count": 36,
   "id": "e02f47fd-675b-4841-99f6-37a3cc5d133a",
   "metadata": {},
   "outputs": [
    {
     "data": {
      "text/plain": [
       "DegreeView({1: 2, 2: 1, 3: 1, 'spam': 0})"
      ]
     },
     "execution_count": 36,
     "metadata": {},
     "output_type": "execute_result"
    }
   ],
   "source": [
    "G.degree()"
   ]
  },
  {
   "cell_type": "code",
   "execution_count": 37,
   "id": "71a142a4-6ed9-42d9-9839-c825bba3e993",
   "metadata": {},
   "outputs": [
    {
     "data": {
      "text/plain": [
       "{1: {1: [[1]], 2: [[1, 2]], 3: [[1, 3]]},\n",
       " 2: {1: [[2, 1]], 2: [[2]], 3: [[2, 1, 3]]},\n",
       " 3: {1: [[3, 1]], 2: [[3, 1, 2]], 3: [[3]]},\n",
       " 'spam': {'spam': [['spam']]}}"
      ]
     },
     "execution_count": 37,
     "metadata": {},
     "output_type": "execute_result"
    }
   ],
   "source": [
    "sp = dict(nx.all_pairs_all_shortest_paths(G))\n",
    "sp"
   ]
  },
  {
   "cell_type": "code",
   "execution_count": 38,
   "id": "680e540e-d005-434b-b0f0-33e859ed1fbf",
   "metadata": {},
   "outputs": [],
   "source": [
    "import matplotlib.pyplot as plt "
   ]
  },
  {
   "cell_type": "code",
   "execution_count": 41,
   "id": "f1acb092-58ee-4572-a26f-5a195b0af3a9",
   "metadata": {},
   "outputs": [
    {
     "data": {
      "image/png": "[encoded data removed]",
      "text/plain": [
       "<Figure size 640x480 with 2 Axes>"
      ]
     },
     "metadata": {},
     "output_type": "display_data"
    }
   ],
   "source": [
    "G = nx.petersen_graph()\n",
    "subax1 = plt.subplot(121)\n",
    "nx.draw(G, with_labels=True, font_weight='bold')\n",
    "subax2 = plt.subplot(122)\n",
    "nx.draw_shell(G, nlist=[range(5,10), range(5)], with_labels=True, font_weight='bold')"
   ]
  },
  {
   "cell_type": "code",
   "execution_count": 42,
   "id": "59a85700-ff87-490e-a36b-0c8be713e582",
   "metadata": {},
   "outputs": [
    {
     "data": {
      "image/png": "[encoded data removed]",
      "text/plain": [
       "<Figure size 640x480 with 2 Axes>"
      ]
     },
     "metadata": {},
     "output_type": "display_data"
    }
   ],
   "source": [
    "G = nx.petersen_graph()\n",
    "subax1 = plt.subplot(121)\n",
    "nx.draw(G, with_labels=True, font_weight='bold')\n",
    "subax2 = plt.subplot(122)\n",
    "nx.draw_shell(G, nlist=[range(3, 10), range(3)], with_labels=True, font_weight='bold')"
   ]
  },
  {
   "cell_type": "code",
   "execution_count": 43,
   "id": "454e3539-7ace-4f3c-bb2f-b7e173dd22f3",
   "metadata": {},
   "outputs": [],
   "source": [
    "plt.show()"
   ]
  },
  {
   "cell_type": "code",
   "execution_count": null,
   "id": "2afa7d19-39a6-4d82-af18-db1729f0c5fe",
   "metadata": {},
   "outputs": [],
   "source": []
  }
 ],
 "metadata": {
  "kernelspec": {
   "display_name": "Python 3 (ipykernel)",
   "language": "python",
   "name": "python3"
  },
  "language_info": {
   "codemirror_mode": {
    "name": "ipython",
    "version": 3
   },
   "file_extension": ".py",
   "mimetype": "text/x-python",
   "name": "python",
   "nbconvert_exporter": "python",
   "pygments_lexer": "ipython3",
   "version": "3.11.9"
  }
 },
 "nbformat": 4,
 "nbformat_minor": 5
}
