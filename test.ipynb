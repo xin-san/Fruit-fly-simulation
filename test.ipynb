{
 "cells": [
  {
   "cell_type": "code",
   "execution_count": 53,
   "metadata": {},
   "outputs": [],
   "source": [
    "import nest\n",
    "import pandas as pd\n",
    "import numpy as np"
   ]
  },
  {
   "cell_type": "code",
   "execution_count": 54,
   "metadata": {},
   "outputs": [],
   "source": [
    "df = pd.read_csv('connectome_materials/connections_no_threshold.csv')\n"
   ]
  },
  {
   "cell_type": "code",
   "execution_count": 44,
   "metadata": {},
   "outputs": [
    {
     "data": {
      "text/plain": [
       "16847997"
      ]
     },
     "execution_count": 44,
     "metadata": {},
     "output_type": "execute_result"
    }
   ],
   "source": [
    "len(df)"
   ]
  },
  {
   "cell_type": "code",
   "execution_count": 50,
   "metadata": {},
   "outputs": [
    {
     "data": {
      "text/plain": [
       "1756014"
      ]
     },
     "execution_count": 50,
     "metadata": {},
     "output_type": "execute_result"
    }
   ],
   "source": [
    "16847997 - 15091983"
   ]
  },
  {
   "cell_type": "code",
   "execution_count": 62,
   "metadata": {},
   "outputs": [
    {
     "data": {
      "text/plain": [
       "1756014"
      ]
     },
     "execution_count": 62,
     "metadata": {},
     "output_type": "execute_result"
    }
   ],
   "source": [
    "3028420 - 1272406"
   ]
  },
  {
   "cell_type": "code",
   "execution_count": 42,
   "metadata": {},
   "outputs": [],
   "source": [
    "droped = df.drop_duplicates(subset=['pre_root_id', 'post_root_id'], keep='last')"
   ]
  },
  {
   "cell_type": "code",
   "execution_count": 43,
   "metadata": {},
   "outputs": [
    {
     "data": {
      "text/plain": [
       "15091983"
      ]
     },
     "execution_count": 43,
     "metadata": {},
     "output_type": "execute_result"
    }
   ],
   "source": [
    "len(droped)"
   ]
  },
  {
   "cell_type": "code",
   "execution_count": 61,
   "metadata": {},
   "outputs": [
    {
     "data": {
      "text/html": [
       "<div>\n",
       "<style scoped>\n",
       "    .dataframe tbody tr th:only-of-type {\n",
       "        vertical-align: middle;\n",
       "    }\n",
       "\n",
       "    .dataframe tbody tr th {\n",
       "        vertical-align: top;\n",
       "    }\n",
       "\n",
       "    .dataframe thead th {\n",
       "        text-align: right;\n",
       "    }\n",
       "</style>\n",
       "<table border=\"1\" class=\"dataframe\">\n",
       "  <thead>\n",
       "    <tr style=\"text-align: right;\">\n",
       "      <th></th>\n",
       "      <th>pre_root_id</th>\n",
       "      <th>post_root_id</th>\n",
       "    </tr>\n",
       "  </thead>\n",
       "  <tbody>\n",
       "    <tr>\n",
       "      <th>0</th>\n",
       "      <td>720575940629970489</td>\n",
       "      <td>720575940631267655</td>\n",
       "    </tr>\n",
       "    <tr>\n",
       "      <th>16</th>\n",
       "      <td>720575940613583001</td>\n",
       "      <td>720575940623353013</td>\n",
       "    </tr>\n",
       "    <tr>\n",
       "      <th>17</th>\n",
       "      <td>720575940645989655</td>\n",
       "      <td>720575940612937073</td>\n",
       "    </tr>\n",
       "    <tr>\n",
       "      <th>20</th>\n",
       "      <td>720575940634042012</td>\n",
       "      <td>720575940623989577</td>\n",
       "    </tr>\n",
       "    <tr>\n",
       "      <th>24</th>\n",
       "      <td>720575940630005147</td>\n",
       "      <td>720575940624606758</td>\n",
       "    </tr>\n",
       "    <tr>\n",
       "      <th>...</th>\n",
       "      <td>...</td>\n",
       "      <td>...</td>\n",
       "    </tr>\n",
       "    <tr>\n",
       "      <th>16804334</th>\n",
       "      <td>720575940633886871</td>\n",
       "      <td>720575940616010530</td>\n",
       "    </tr>\n",
       "    <tr>\n",
       "      <th>16805240</th>\n",
       "      <td>720575940618340057</td>\n",
       "      <td>720575940628118683</td>\n",
       "    </tr>\n",
       "    <tr>\n",
       "      <th>16810677</th>\n",
       "      <td>720575940628679887</td>\n",
       "      <td>720575940635376052</td>\n",
       "    </tr>\n",
       "    <tr>\n",
       "      <th>16814288</th>\n",
       "      <td>720575940627537753</td>\n",
       "      <td>720575940618273241</td>\n",
       "    </tr>\n",
       "    <tr>\n",
       "      <th>16819031</th>\n",
       "      <td>720575940632823144</td>\n",
       "      <td>720575940616325405</td>\n",
       "    </tr>\n",
       "  </tbody>\n",
       "</table>\n",
       "<p>1272406 rows × 2 columns</p>\n",
       "</div>"
      ],
      "text/plain": [
       "                 pre_root_id        post_root_id\n",
       "0         720575940629970489  720575940631267655\n",
       "16        720575940613583001  720575940623353013\n",
       "17        720575940645989655  720575940612937073\n",
       "20        720575940634042012  720575940623989577\n",
       "24        720575940630005147  720575940624606758\n",
       "...                      ...                 ...\n",
       "16804334  720575940633886871  720575940616010530\n",
       "16805240  720575940618340057  720575940628118683\n",
       "16810677  720575940628679887  720575940635376052\n",
       "16814288  720575940627537753  720575940618273241\n",
       "16819031  720575940632823144  720575940616325405\n",
       "\n",
       "[1272406 rows x 2 columns]"
      ]
     },
     "execution_count": 61,
     "metadata": {},
     "output_type": "execute_result"
    }
   ],
   "source": [
    "duplicates = df[df.duplicated(['pre_root_id', 'post_root_id'], keep=False)]\n",
    "duplicates[['pre_root_id', 'post_root_id']].drop_duplicates()\n"
   ]
  },
  {
   "cell_type": "code",
   "execution_count": 59,
   "metadata": {},
   "outputs": [
    {
     "ename": "KeyError",
     "evalue": "('pre_root_id', 'post_root_id')",
     "output_type": "error",
     "traceback": [
      "\u001b[0;31m---------------------------------------------------------------------------\u001b[0m",
      "\u001b[0;31mKeyError\u001b[0m                                  Traceback (most recent call last)",
      "File \u001b[0;32m~/anaconda3/envs/connectome_data/lib/python3.12/site-packages/pandas/core/indexes/base.py:3805\u001b[0m, in \u001b[0;36mIndex.get_loc\u001b[0;34m(self, key)\u001b[0m\n\u001b[1;32m   3804\u001b[0m \u001b[38;5;28;01mtry\u001b[39;00m:\n\u001b[0;32m-> 3805\u001b[0m     \u001b[38;5;28;01mreturn\u001b[39;00m \u001b[38;5;28;43mself\u001b[39;49m\u001b[38;5;241;43m.\u001b[39;49m\u001b[43m_engine\u001b[49m\u001b[38;5;241;43m.\u001b[39;49m\u001b[43mget_loc\u001b[49m\u001b[43m(\u001b[49m\u001b[43mcasted_key\u001b[49m\u001b[43m)\u001b[49m\n\u001b[1;32m   3806\u001b[0m \u001b[38;5;28;01mexcept\u001b[39;00m \u001b[38;5;167;01mKeyError\u001b[39;00m \u001b[38;5;28;01mas\u001b[39;00m err:\n",
      "File \u001b[0;32mindex.pyx:167\u001b[0m, in \u001b[0;36mpandas._libs.index.IndexEngine.get_loc\u001b[0;34m()\u001b[0m\n",
      "File \u001b[0;32mindex.pyx:196\u001b[0m, in \u001b[0;36mpandas._libs.index.IndexEngine.get_loc\u001b[0;34m()\u001b[0m\n",
      "File \u001b[0;32mpandas/_libs/hashtable_class_helper.pxi:7081\u001b[0m, in \u001b[0;36mpandas._libs.hashtable.PyObjectHashTable.get_item\u001b[0;34m()\u001b[0m\n",
      "File \u001b[0;32mpandas/_libs/hashtable_class_helper.pxi:7089\u001b[0m, in \u001b[0;36mpandas._libs.hashtable.PyObjectHashTable.get_item\u001b[0;34m()\u001b[0m\n",
      "\u001b[0;31mKeyError\u001b[0m: ('pre_root_id', 'post_root_id')",
      "\nThe above exception was the direct cause of the following exception:\n",
      "\u001b[0;31mKeyError\u001b[0m                                  Traceback (most recent call last)",
      "Cell \u001b[0;32mIn[59], line 1\u001b[0m\n\u001b[0;32m----> 1\u001b[0m \u001b[43mduplicates\u001b[49m\u001b[43m[\u001b[49m\u001b[43m(\u001b[49m\u001b[38;5;124;43m'\u001b[39;49m\u001b[38;5;124;43mpre_root_id\u001b[39;49m\u001b[38;5;124;43m'\u001b[39;49m\u001b[43m,\u001b[49m\u001b[43m \u001b[49m\u001b[38;5;124;43m'\u001b[39;49m\u001b[38;5;124;43mpost_root_id\u001b[39;49m\u001b[38;5;124;43m'\u001b[39;49m\u001b[43m)\u001b[49m\u001b[43m]\u001b[49m\n",
      "File \u001b[0;32m~/anaconda3/envs/connectome_data/lib/python3.12/site-packages/pandas/core/frame.py:4102\u001b[0m, in \u001b[0;36mDataFrame.__getitem__\u001b[0;34m(self, key)\u001b[0m\n\u001b[1;32m   4100\u001b[0m \u001b[38;5;28;01mif\u001b[39;00m \u001b[38;5;28mself\u001b[39m\u001b[38;5;241m.\u001b[39mcolumns\u001b[38;5;241m.\u001b[39mnlevels \u001b[38;5;241m>\u001b[39m \u001b[38;5;241m1\u001b[39m:\n\u001b[1;32m   4101\u001b[0m     \u001b[38;5;28;01mreturn\u001b[39;00m \u001b[38;5;28mself\u001b[39m\u001b[38;5;241m.\u001b[39m_getitem_multilevel(key)\n\u001b[0;32m-> 4102\u001b[0m indexer \u001b[38;5;241m=\u001b[39m \u001b[38;5;28;43mself\u001b[39;49m\u001b[38;5;241;43m.\u001b[39;49m\u001b[43mcolumns\u001b[49m\u001b[38;5;241;43m.\u001b[39;49m\u001b[43mget_loc\u001b[49m\u001b[43m(\u001b[49m\u001b[43mkey\u001b[49m\u001b[43m)\u001b[49m\n\u001b[1;32m   4103\u001b[0m \u001b[38;5;28;01mif\u001b[39;00m is_integer(indexer):\n\u001b[1;32m   4104\u001b[0m     indexer \u001b[38;5;241m=\u001b[39m [indexer]\n",
      "File \u001b[0;32m~/anaconda3/envs/connectome_data/lib/python3.12/site-packages/pandas/core/indexes/base.py:3812\u001b[0m, in \u001b[0;36mIndex.get_loc\u001b[0;34m(self, key)\u001b[0m\n\u001b[1;32m   3807\u001b[0m     \u001b[38;5;28;01mif\u001b[39;00m \u001b[38;5;28misinstance\u001b[39m(casted_key, \u001b[38;5;28mslice\u001b[39m) \u001b[38;5;129;01mor\u001b[39;00m (\n\u001b[1;32m   3808\u001b[0m         \u001b[38;5;28misinstance\u001b[39m(casted_key, abc\u001b[38;5;241m.\u001b[39mIterable)\n\u001b[1;32m   3809\u001b[0m         \u001b[38;5;129;01mand\u001b[39;00m \u001b[38;5;28many\u001b[39m(\u001b[38;5;28misinstance\u001b[39m(x, \u001b[38;5;28mslice\u001b[39m) \u001b[38;5;28;01mfor\u001b[39;00m x \u001b[38;5;129;01min\u001b[39;00m casted_key)\n\u001b[1;32m   3810\u001b[0m     ):\n\u001b[1;32m   3811\u001b[0m         \u001b[38;5;28;01mraise\u001b[39;00m InvalidIndexError(key)\n\u001b[0;32m-> 3812\u001b[0m     \u001b[38;5;28;01mraise\u001b[39;00m \u001b[38;5;167;01mKeyError\u001b[39;00m(key) \u001b[38;5;28;01mfrom\u001b[39;00m \u001b[38;5;21;01merr\u001b[39;00m\n\u001b[1;32m   3813\u001b[0m \u001b[38;5;28;01mexcept\u001b[39;00m \u001b[38;5;167;01mTypeError\u001b[39;00m:\n\u001b[1;32m   3814\u001b[0m     \u001b[38;5;66;03m# If we have a listlike key, _check_indexing_error will raise\u001b[39;00m\n\u001b[1;32m   3815\u001b[0m     \u001b[38;5;66;03m#  InvalidIndexError. Otherwise we fall through and re-raise\u001b[39;00m\n\u001b[1;32m   3816\u001b[0m     \u001b[38;5;66;03m#  the TypeError.\u001b[39;00m\n\u001b[1;32m   3817\u001b[0m     \u001b[38;5;28mself\u001b[39m\u001b[38;5;241m.\u001b[39m_check_indexing_error(key)\n",
      "\u001b[0;31mKeyError\u001b[0m: ('pre_root_id', 'post_root_id')"
     ]
    }
   ],
   "source": [
    "duplicates[('pre_root_id', 'post_root_id']"
   ]
  },
  {
   "cell_type": "code",
   "execution_count": 41,
   "metadata": {},
   "outputs": [
    {
     "name": "stdout",
     "output_type": "stream",
     "text": [
      "                 pre_root_id        post_root_id neuropil  syn_count nt_type\n",
      "13584874  720575940596125868  720575940627502824     LO_R          1     ACH\n",
      "16307015  720575940596125868  720575940627502824    LOP_R          1     ACH\n",
      "8099645   720575940597856265  720575940605842278     ME_R          5     ACH\n",
      "9590328   720575940597856265  720575940605842278     LO_R          6     ACH\n",
      "713293    720575940597856265  720575940610922360     ME_R          1     ACH\n",
      "...                      ...                 ...      ...        ...     ...\n",
      "10966967  720575940661337217  720575940644819223  MB_ML_L          1     ACH\n",
      "676158    720575940661337217  720575940647147908    CRE_L          1     ACH\n",
      "6222145   720575940661337217  720575940647147908  MB_VL_L          1     ACH\n",
      "6074849   720575940661337217  720575940652390134  MB_VL_L          2     ACH\n",
      "12052683  720575940661337217  720575940652390134  MB_ML_L          4     ACH\n",
      "\n",
      "[3028420 rows x 5 columns]\n"
     ]
    }
   ],
   "source": [
    "sorted_duplicates = duplicates.sort_values(['pre_root_id', 'post_root_id'])\n",
    "print(sorted_duplicates)"
   ]
  },
  {
   "cell_type": "code",
   "execution_count": 54,
   "metadata": {},
   "outputs": [],
   "source": [
    "neurons_dict = {}\n",
    "for i in range(len(unique_ids)):\n",
    "    neurons_dict[unique_ids[i]] = neurons[i]"
   ]
  },
  {
   "cell_type": "code",
   "execution_count": 55,
   "metadata": {},
   "outputs": [
    {
     "data": {
      "text/plain": [
       "NodeCollection(metadata=None, model=iaf_psc_alpha, size=1, first=20294)"
      ]
     },
     "execution_count": 55,
     "metadata": {},
     "output_type": "execute_result"
    }
   ],
   "source": [
    "neurons_dict[unique_ids[-2]]"
   ]
  },
  {
   "cell_type": "code",
   "execution_count": 56,
   "metadata": {},
   "outputs": [],
   "source": [
    "pre_id = df['pre_root_id'].to_list()\n",
    "post_id = df['post_root_id'].to_list()"
   ]
  },
  {
   "cell_type": "code",
   "execution_count": 57,
   "metadata": {},
   "outputs": [],
   "source": [
    "pre_neuron = [neurons_dict[id] for id in pre_id]\n",
    "post_neuron = [neurons_dict[id] for id in post_id]"
   ]
  },
  {
   "cell_type": "code",
   "execution_count": 58,
   "metadata": {},
   "outputs": [],
   "source": [
    "pre_neuron = np.array(pre_neuron)\n",
    "post_neuron = np.array(post_neuron)"
   ]
  },
  {
   "cell_type": "code",
   "execution_count": 59,
   "metadata": {},
   "outputs": [
    {
     "name": "stdout",
     "output_type": "stream",
     "text": [
      "[13531 13532 13533 ... 17113 17114 17115]\n"
     ]
    }
   ],
   "source": [
    "flattened = pre_neuron.flatten()\n",
    "print(flattened)"
   ]
  },
  {
   "cell_type": "code",
   "execution_count": 49,
   "metadata": {},
   "outputs": [
    {
     "name": "stdout",
     "output_type": "stream",
     "text": [
      "NodeCollection(metadata=None, model=iaf_psc_alpha, size=1, first=6767)\n"
     ]
    }
   ],
   "source": [
    "print(pre_neuron[])"
   ]
  },
  {
   "cell_type": "code",
   "execution_count": 61,
   "metadata": {},
   "outputs": [
    {
     "ename": "ValueError",
     "evalue": "All node IDs in a NodeCollection have to be unique",
     "output_type": "error",
     "traceback": [
      "\u001b[0;31m---------------------------------------------------------------------------\u001b[0m",
      "\u001b[0;31mValueError\u001b[0m                                Traceback (most recent call last)",
      "Cell \u001b[0;32mIn[61], line 1\u001b[0m\n\u001b[0;32m----> 1\u001b[0m \u001b[43mneurons\u001b[49m\u001b[43m[\u001b[49m\u001b[43mflattened\u001b[49m\u001b[43m]\u001b[49m\n",
      "File \u001b[0;32m/usr/lib/python3.12/site-packages/nest/lib/hl_api_types.py:281\u001b[0m, in \u001b[0;36mNodeCollection.__getitem__\u001b[0;34m(self, key)\u001b[0m\n\u001b[1;32m    279\u001b[0m         \u001b[38;5;28;01mraise\u001b[39;00m \u001b[38;5;167;01mIndexError\u001b[39;00m(\u001b[38;5;124m\"\u001b[39m\u001b[38;5;124mBool index array must be the same length as NodeCollection\u001b[39m\u001b[38;5;124m\"\u001b[39m)\n\u001b[1;32m    280\u001b[0m     \u001b[38;5;28;01mif\u001b[39;00m \u001b[38;5;129;01mnot\u001b[39;00m is_booltype \u001b[38;5;129;01mand\u001b[39;00m \u001b[38;5;28mlen\u001b[39m(numpy\u001b[38;5;241m.\u001b[39munique(key)) \u001b[38;5;241m!=\u001b[39m \u001b[38;5;28mlen\u001b[39m(key):\n\u001b[0;32m--> 281\u001b[0m         \u001b[38;5;28;01mraise\u001b[39;00m \u001b[38;5;167;01mValueError\u001b[39;00m(\u001b[38;5;124m\"\u001b[39m\u001b[38;5;124mAll node IDs in a NodeCollection have to be unique\u001b[39m\u001b[38;5;124m\"\u001b[39m)\n\u001b[1;32m    282\u001b[0m     \u001b[38;5;28;01mreturn\u001b[39;00m take_array_index(\u001b[38;5;28mself\u001b[39m\u001b[38;5;241m.\u001b[39m_datum, key)\n\u001b[1;32m    283\u001b[0m \u001b[38;5;28;01melse\u001b[39;00m:\n",
      "\u001b[0;31mValueError\u001b[0m: All node IDs in a NodeCollection have to be unique"
     ]
    }
   ],
   "source": [
    "neurons[flattened]"
   ]
  },
  {
   "cell_type": "code",
   "execution_count": 43,
   "metadata": {},
   "outputs": [
    {
     "ename": "TypeError",
     "evalue": "NumPy indices must one-dimensional",
     "output_type": "error",
     "traceback": [
      "\u001b[0;31m---------------------------------------------------------------------------\u001b[0m",
      "\u001b[0;31mTypeError\u001b[0m                                 Traceback (most recent call last)",
      "Cell \u001b[0;32mIn[43], line 1\u001b[0m\n\u001b[0;32m----> 1\u001b[0m nest\u001b[38;5;241m.\u001b[39mConnect(\u001b[43mneurons\u001b[49m\u001b[43m[\u001b[49m\u001b[43mpre_neuron\u001b[49m\u001b[43m]\u001b[49m, neurons[post_neuron], \u001b[38;5;124m'\u001b[39m\u001b[38;5;124mone_to_one\u001b[39m\u001b[38;5;124m'\u001b[39m)\n",
      "File \u001b[0;32m/usr/lib/python3.12/site-packages/nest/lib/hl_api_types.py:274\u001b[0m, in \u001b[0;36mNodeCollection.__getitem__\u001b[0;34m(self, key)\u001b[0m\n\u001b[1;32m    272\u001b[0m     \u001b[38;5;28;01mreturn\u001b[39;00m NodeCollection([])\n\u001b[1;32m    273\u001b[0m \u001b[38;5;28;01mif\u001b[39;00m \u001b[38;5;28mlen\u001b[39m(key\u001b[38;5;241m.\u001b[39mshape) \u001b[38;5;241m!=\u001b[39m \u001b[38;5;241m1\u001b[39m:\n\u001b[0;32m--> 274\u001b[0m     \u001b[38;5;28;01mraise\u001b[39;00m \u001b[38;5;167;01mTypeError\u001b[39;00m(\u001b[38;5;124m\"\u001b[39m\u001b[38;5;124mNumPy indices must one-dimensional\u001b[39m\u001b[38;5;124m\"\u001b[39m)\n\u001b[1;32m    275\u001b[0m is_booltype \u001b[38;5;241m=\u001b[39m numpy\u001b[38;5;241m.\u001b[39missubdtype(key\u001b[38;5;241m.\u001b[39mdtype, numpy\u001b[38;5;241m.\u001b[39mdtype(\u001b[38;5;28mbool\u001b[39m)\u001b[38;5;241m.\u001b[39mtype)\n\u001b[1;32m    276\u001b[0m \u001b[38;5;28;01mif\u001b[39;00m \u001b[38;5;129;01mnot\u001b[39;00m (is_booltype \u001b[38;5;129;01mor\u001b[39;00m numpy\u001b[38;5;241m.\u001b[39missubdtype(key\u001b[38;5;241m.\u001b[39mdtype, numpy\u001b[38;5;241m.\u001b[39minteger)):\n",
      "\u001b[0;31mTypeError\u001b[0m: NumPy indices must one-dimensional"
     ]
    }
   ],
   "source": [
    "nest.Connect(neurons[pre_neuron], neurons[post_neuron], 'one_to_one')"
   ]
  },
  {
   "cell_type": "code",
   "execution_count": 3,
   "metadata": {},
   "outputs": [
    {
     "data": {
      "text/plain": [
       "138005"
      ]
     },
     "execution_count": 3,
     "metadata": {},
     "output_type": "execute_result"
    }
   ],
   "source": [
    "df = pd.read_csv('connectome_materials/connections_no_threshold.csv')\n",
    "len(df['pre_root_id'].unique())"
   ]
  },
  {
   "cell_type": "code",
   "execution_count": 82,
   "metadata": {},
   "outputs": [
    {
     "ename": "NESTError",
     "evalue": "'synapse_model' must be a string",
     "output_type": "error",
     "traceback": [
      "\u001b[0;31m---------------------------------------------------------------------------\u001b[0m",
      "\u001b[0;31mNESTError\u001b[0m                                 Traceback (most recent call last)",
      "Cell \u001b[0;32mIn[82], line 8\u001b[0m\n\u001b[1;32m      2\u001b[0m neurons \u001b[38;5;241m=\u001b[39m nest\u001b[38;5;241m.\u001b[39mCreate(\u001b[38;5;124m'\u001b[39m\u001b[38;5;124miaf_psc_alpha\u001b[39m\u001b[38;5;124m'\u001b[39m, \u001b[38;5;241m4\u001b[39m)\n\u001b[1;32m      3\u001b[0m syn_spec \u001b[38;5;241m=\u001b[39m {\n\u001b[1;32m      4\u001b[0m     \u001b[38;5;124m\"\u001b[39m\u001b[38;5;124msynapse_model\u001b[39m\u001b[38;5;124m\"\u001b[39m: [\u001b[38;5;124m\"\u001b[39m\u001b[38;5;124mstatic_synapse\u001b[39m\u001b[38;5;124m\"\u001b[39m, \u001b[38;5;124m\"\u001b[39m\u001b[38;5;124mstdp_synapse\u001b[39m\u001b[38;5;124m\"\u001b[39m, \n\u001b[1;32m      5\u001b[0m                       \u001b[38;5;124m\"\u001b[39m\u001b[38;5;124mstatic_synapse\u001b[39m\u001b[38;5;124m\"\u001b[39m, \u001b[38;5;124m\"\u001b[39m\u001b[38;5;124mstdp_synapse\u001b[39m\u001b[38;5;124m\"\u001b[39m],\n\u001b[1;32m      6\u001b[0m     \u001b[38;5;124m\"\u001b[39m\u001b[38;5;124mweight\u001b[39m\u001b[38;5;124m\"\u001b[39m: [\u001b[38;5;241m1.0\u001b[39m, \u001b[38;5;241m2.0\u001b[39m, \u001b[38;5;241m1.5\u001b[39m, \u001b[38;5;241m2.5\u001b[39m]\n\u001b[1;32m      7\u001b[0m }\n\u001b[0;32m----> 8\u001b[0m \u001b[43mnest\u001b[49m\u001b[38;5;241;43m.\u001b[39;49m\u001b[43mConnect\u001b[49m\u001b[43m(\u001b[49m\u001b[43mneurons\u001b[49m\u001b[43m[\u001b[49m\u001b[43m:\u001b[49m\u001b[38;5;241;43m2\u001b[39;49m\u001b[43m]\u001b[49m\u001b[43m,\u001b[49m\u001b[43m \u001b[49m\u001b[43mneurons\u001b[49m\u001b[43m[\u001b[49m\u001b[38;5;241;43m2\u001b[39;49m\u001b[43m:\u001b[49m\u001b[43m]\u001b[49m\u001b[43m,\u001b[49m\u001b[43m \u001b[49m\u001b[38;5;124;43m'\u001b[39;49m\u001b[38;5;124;43mall_to_all\u001b[39;49m\u001b[38;5;124;43m'\u001b[39;49m\u001b[43m,\u001b[49m\u001b[43m \u001b[49m\u001b[43msyn_spec\u001b[49m\u001b[43m)\u001b[49m\n",
      "File \u001b[0;32m/usr/lib/python3.12/site-packages/nest/ll_api.py:216\u001b[0m, in \u001b[0;36mstack_checker.<locals>.stack_checker_func\u001b[0;34m(*args, **kwargs)\u001b[0m\n\u001b[1;32m    213\u001b[0m \u001b[38;5;129m@functools\u001b[39m\u001b[38;5;241m.\u001b[39mwraps(f)\n\u001b[1;32m    214\u001b[0m \u001b[38;5;28;01mdef\u001b[39;00m \u001b[38;5;21mstack_checker_func\u001b[39m(\u001b[38;5;241m*\u001b[39margs, \u001b[38;5;241m*\u001b[39m\u001b[38;5;241m*\u001b[39mkwargs):\n\u001b[1;32m    215\u001b[0m     \u001b[38;5;28;01mif\u001b[39;00m \u001b[38;5;129;01mnot\u001b[39;00m get_debug():\n\u001b[0;32m--> 216\u001b[0m         \u001b[38;5;28;01mreturn\u001b[39;00m \u001b[43mf\u001b[49m\u001b[43m(\u001b[49m\u001b[38;5;241;43m*\u001b[39;49m\u001b[43margs\u001b[49m\u001b[43m,\u001b[49m\u001b[43m \u001b[49m\u001b[38;5;241;43m*\u001b[39;49m\u001b[38;5;241;43m*\u001b[39;49m\u001b[43mkwargs\u001b[49m\u001b[43m)\u001b[49m\n\u001b[1;32m    217\u001b[0m     \u001b[38;5;28;01melse\u001b[39;00m:\n\u001b[1;32m    218\u001b[0m         sr(\u001b[38;5;124m\"\u001b[39m\u001b[38;5;124mcount\u001b[39m\u001b[38;5;124m\"\u001b[39m)\n",
      "File \u001b[0;32m/usr/lib/python3.12/site-packages/nest/lib/hl_api_connections.py:216\u001b[0m, in \u001b[0;36mConnect\u001b[0;34m(pre, post, conn_spec, syn_spec, return_synapsecollection)\u001b[0m\n\u001b[1;32m    213\u001b[0m processed_conn_spec \u001b[38;5;241m=\u001b[39m _process_conn_spec(conn_spec)\n\u001b[1;32m    214\u001b[0m \u001b[38;5;66;03m# If syn_spec is given, its contents are checked, and if needed converted\u001b[39;00m\n\u001b[1;32m    215\u001b[0m \u001b[38;5;66;03m# to the right formats.\u001b[39;00m\n\u001b[0;32m--> 216\u001b[0m processed_syn_spec \u001b[38;5;241m=\u001b[39m \u001b[43m_process_syn_spec\u001b[49m\u001b[43m(\u001b[49m\u001b[43msyn_spec\u001b[49m\u001b[43m,\u001b[49m\u001b[43m \u001b[49m\u001b[43mprocessed_conn_spec\u001b[49m\u001b[43m,\u001b[49m\u001b[43m \u001b[49m\u001b[38;5;28;43mlen\u001b[39;49m\u001b[43m(\u001b[49m\u001b[43mpre\u001b[49m\u001b[43m)\u001b[49m\u001b[43m,\u001b[49m\u001b[43m \u001b[49m\u001b[38;5;28;43mlen\u001b[39;49m\u001b[43m(\u001b[49m\u001b[43mpost\u001b[49m\u001b[43m)\u001b[49m\u001b[43m,\u001b[49m\u001b[43m \u001b[49m\u001b[43muse_connect_arrays\u001b[49m\u001b[43m)\u001b[49m\n\u001b[1;32m    218\u001b[0m \u001b[38;5;66;03m# If pre and post are arrays of node IDs, and conn_spec is unspecified,\u001b[39;00m\n\u001b[1;32m    219\u001b[0m \u001b[38;5;66;03m# the node IDs are connected one-to-one.\u001b[39;00m\n\u001b[1;32m    220\u001b[0m \u001b[38;5;28;01mif\u001b[39;00m use_connect_arrays:\n",
      "File \u001b[0;32m/usr/lib/python3.12/site-packages/nest/lib/hl_api_connection_helpers.py:79\u001b[0m, in \u001b[0;36m_process_syn_spec\u001b[0;34m(syn_spec, conn_spec, prelength, postlength, use_connect_arrays)\u001b[0m\n\u001b[1;32m     77\u001b[0m \u001b[38;5;28;01mif\u001b[39;00m \u001b[38;5;28misinstance\u001b[39m(syn_spec, \u001b[38;5;28mdict\u001b[39m):\n\u001b[1;32m     78\u001b[0m     \u001b[38;5;28;01mif\u001b[39;00m \u001b[38;5;124m\"\u001b[39m\u001b[38;5;124msynapse_model\u001b[39m\u001b[38;5;124m\"\u001b[39m \u001b[38;5;129;01min\u001b[39;00m syn_spec \u001b[38;5;129;01mand\u001b[39;00m \u001b[38;5;129;01mnot\u001b[39;00m \u001b[38;5;28misinstance\u001b[39m(syn_spec[\u001b[38;5;124m\"\u001b[39m\u001b[38;5;124msynapse_model\u001b[39m\u001b[38;5;124m\"\u001b[39m], \u001b[38;5;28mstr\u001b[39m):\n\u001b[0;32m---> 79\u001b[0m         \u001b[38;5;28;01mraise\u001b[39;00m kernel\u001b[38;5;241m.\u001b[39mNESTError(\u001b[38;5;124m\"\u001b[39m\u001b[38;5;124m'\u001b[39m\u001b[38;5;124msynapse_model\u001b[39m\u001b[38;5;124m'\u001b[39m\u001b[38;5;124m must be a string\u001b[39m\u001b[38;5;124m\"\u001b[39m)\n\u001b[1;32m     80\u001b[0m     \u001b[38;5;28;01mfor\u001b[39;00m key, value \u001b[38;5;129;01min\u001b[39;00m syn_spec\u001b[38;5;241m.\u001b[39mitems():\n\u001b[1;32m     81\u001b[0m         \u001b[38;5;66;03m# if value is a list, it is converted to a numpy array\u001b[39;00m\n\u001b[1;32m     82\u001b[0m         \u001b[38;5;28;01mif\u001b[39;00m \u001b[38;5;28misinstance\u001b[39m(value, (\u001b[38;5;28mlist\u001b[39m, \u001b[38;5;28mtuple\u001b[39m)):\n",
      "\u001b[0;31mNESTError\u001b[0m: 'synapse_model' must be a string"
     ]
    }
   ],
   "source": [
    "nest.ResetKernel()\n",
    "neurons = nest.Create('iaf_psc_alpha', 4)\n",
    "syn_spec = {\n",
    "    \"synapse_model\": [\"static_synapse\", \"stdp_synapse\", \n",
    "                      \"static_synapse\", \"stdp_synapse\"],\n",
    "    \"weight\": [1.0, 2.0, 1.5, 2.5]\n",
    "}\n",
    "nest.Connect(neurons[:2], neurons[2:], 'all_to_all', syn_spec)\n"
   ]
  },
  {
   "cell_type": "code",
   "execution_count": 77,
   "metadata": {},
   "outputs": [
    {
     "data": {
      "text/plain": [
       "<nest.lib.hl_api_types.SynapseCollection at 0x70880da82f60>"
      ]
     },
     "execution_count": 77,
     "metadata": {},
     "output_type": "execute_result"
    }
   ],
   "source": [
    "nest.Connect(neurons[1,2], neurons[5,6], 'one_to_one', {'weight': [1,2]}, {'synapse_model': ('stdp_synapse', 'static_synapse')})"
   ]
  },
  {
   "cell_type": "code",
   "execution_count": 78,
   "metadata": {},
   "outputs": [
    {
     "name": "stdout",
     "output_type": "stream",
     "text": [
      " source   target   synapse model   weight   delay \n",
      "-------- -------- --------------- -------- -------\n",
      "      2        6  static_synapse    1.000   1.000\n",
      "      3        7  static_synapse    2.000   1.000\n"
     ]
    }
   ],
   "source": [
    "print(nest.GetConnections())"
   ]
  },
  {
   "cell_type": "code",
   "execution_count": 85,
   "metadata": {},
   "outputs": [
    {
     "name": "stdout",
     "output_type": "stream",
     "text": [
      " source   target   synapse model   weight   delay \n",
      "-------- -------- --------------- -------- -------\n",
      "      1        1  static_synapse    4.000   1.500\n",
      "      2        2  static_synapse    4.000   1.500\n",
      "      1        1    stdp_synapse    1.000   1.000\n",
      "      1        1    stdp_synapse    1.000   1.000\n",
      "      2        2    stdp_synapse    1.000   1.000\n",
      "      2        2    stdp_synapse    1.000   1.000\n"
     ]
    }
   ],
   "source": [
    "nest.ResetKernel()\n",
    "nodes = nest.Create('iaf_psc_alpha', 2)\n",
    "syn_spec = nest.CollocatedSynapses({'weight': 4.0, 'delay': 1.5},\n",
    "                                   {'synapse_model': 'stdp_synapse'},\n",
    "                                   {'synapse_model': 'stdp_synapse', 'alpha': 3.0})\n",
    "nest.Connect(nodes, nodes, conn_spec='one_to_one', syn_spec=syn_spec)\n",
    "print(nest.GetConnections())"
   ]
  },
  {
   "cell_type": "code",
   "execution_count": null,
   "metadata": {},
   "outputs": [],
   "source": []
  }
 ],
 "metadata": {
  "kernelspec": {
   "display_name": "connectome_data",
   "language": "python",
   "name": "python3"
  },
  "language_info": {
   "codemirror_mode": {
    "name": "ipython",
    "version": 3
   },
   "file_extension": ".py",
   "mimetype": "text/x-python",
   "name": "python",
   "nbconvert_exporter": "python",
   "pygments_lexer": "ipython3",
   "version": "3.12.3"
  }
 },
 "nbformat": 4,
 "nbformat_minor": 2
}
