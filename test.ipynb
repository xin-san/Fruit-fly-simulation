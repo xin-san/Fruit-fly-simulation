{
 "cells": [
  {
   "cell_type": "code",
   "execution_count": 2,
   "metadata": {},
   "outputs": [],
   "source": [
    "import pandas as pd"
   ]
  },
  {
   "cell_type": "code",
   "execution_count": 3,
   "metadata": {},
   "outputs": [
    {
     "data": {
      "text/html": [
       "<div>\n",
       "<style scoped>\n",
       "    .dataframe tbody tr th:only-of-type {\n",
       "        vertical-align: middle;\n",
       "    }\n",
       "\n",
       "    .dataframe tbody tr th {\n",
       "        vertical-align: top;\n",
       "    }\n",
       "\n",
       "    .dataframe thead th {\n",
       "        text-align: right;\n",
       "    }\n",
       "</style>\n",
       "<table border=\"1\" class=\"dataframe\">\n",
       "  <thead>\n",
       "    <tr style=\"text-align: right;\">\n",
       "      <th></th>\n",
       "      <th>root_id</th>\n",
       "      <th>length_nm</th>\n",
       "      <th>area_nm</th>\n",
       "      <th>size_nm</th>\n",
       "    </tr>\n",
       "  </thead>\n",
       "  <tbody>\n",
       "    <tr>\n",
       "      <th>0</th>\n",
       "      <td>720575940596125868</td>\n",
       "      <td>396840</td>\n",
       "      <td>628299136</td>\n",
       "      <td>37616302080</td>\n",
       "    </tr>\n",
       "    <tr>\n",
       "      <th>1</th>\n",
       "      <td>720575940597856265</td>\n",
       "      <td>1184013</td>\n",
       "      <td>1634424448</td>\n",
       "      <td>100004290560</td>\n",
       "    </tr>\n",
       "    <tr>\n",
       "      <th>2</th>\n",
       "      <td>720575940597944841</td>\n",
       "      <td>784742</td>\n",
       "      <td>1022307072</td>\n",
       "      <td>58954229760</td>\n",
       "    </tr>\n",
       "    <tr>\n",
       "      <th>3</th>\n",
       "      <td>720575940598267657</td>\n",
       "      <td>1645960</td>\n",
       "      <td>2346787840</td>\n",
       "      <td>140744601600</td>\n",
       "    </tr>\n",
       "    <tr>\n",
       "      <th>4</th>\n",
       "      <td>720575940599333574</td>\n",
       "      <td>575383</td>\n",
       "      <td>1366784768</td>\n",
       "      <td>111170764800</td>\n",
       "    </tr>\n",
       "  </tbody>\n",
       "</table>\n",
       "</div>"
      ],
      "text/plain": [
       "              root_id  length_nm     area_nm       size_nm\n",
       "0  720575940596125868     396840   628299136   37616302080\n",
       "1  720575940597856265    1184013  1634424448  100004290560\n",
       "2  720575940597944841     784742  1022307072   58954229760\n",
       "3  720575940598267657    1645960  2346787840  140744601600\n",
       "4  720575940599333574     575383  1366784768  111170764800"
      ]
     },
     "execution_count": 3,
     "metadata": {},
     "output_type": "execute_result"
    }
   ],
   "source": [
    "data = pd.read_csv('cell_stats.csv.gz')\n",
    "data.head()"
   ]
  },
  {
   "cell_type": "code",
   "execution_count": 4,
   "metadata": {},
   "outputs": [
    {
     "data": {
      "text/plain": [
       "array(['3_cycle_participant,feedforward_loop_participant,reciprocal,rich_club,attractor',\n",
       "       '3_cycle_participant,feedforward_loop_participant,highly_reciprocal_neuron,nsrn,reciprocal,rich_club,repeller',\n",
       "       '3_cycle_participant,feedforward_loop_participant,reciprocal,rich_club,repeller',\n",
       "       '3_cycle_participant,feedforward_loop_participant,rich_club,attractor',\n",
       "       '3_cycle_participant,feedforward_loop_participant,reciprocal,rich_club,attractor,repeller',\n",
       "       'attractor,feedforward_loop_participant,reciprocal,rich_club',\n",
       "       'attractor,feedforward_loop_participant,reciprocal',\n",
       "       '3_cycle_participant,broadcaster,feedforward_loop_participant,reciprocal,rich_club,attractor,repeller',\n",
       "       '3_cycle_participant,feedforward_loop_participant,highly_reciprocal_neuron,nsrn,reciprocal,rich_club,attractor,repeller',\n",
       "       'feedforward_loop_participant,reciprocal,rich_club,repeller',\n",
       "       '3_cycle_participant,feedforward_loop_participant,integrator,rich_club,attractor',\n",
       "       '3_cycle_participant,feedforward_loop_participant,reciprocal,attractor',\n",
       "       'attractor,feedforward_loop_participant,rich_club',\n",
       "       '3_cycle_participant,feedforward_loop_participant,highly_reciprocal_neuron,reciprocal,rich_club,attractor,repeller',\n",
       "       'attractor,feedforward_loop_participant,integrator,rich_club',\n",
       "       '3_cycle_participant,broadcaster,feedforward_loop_participant,reciprocal,rich_club,repeller',\n",
       "       '3_cycle_participant,broadcaster,feedforward_loop_participant,rich_club,repeller',\n",
       "       'feedforward_loop_participant,highly_reciprocal_neuron,reciprocal,rich_club,repeller',\n",
       "       '3_cycle_participant,feedforward_loop_participant,attractor',\n",
       "       '3_cycle_participant,feedforward_loop_participant,highly_reciprocal_neuron,reciprocal,rich_club,repeller',\n",
       "       '3_cycle_participant,feedforward_loop_participant,repeller',\n",
       "       '3_cycle_participant,feedforward_loop_participant,integrator,reciprocal,rich_club,attractor',\n",
       "       '3_cycle_participant,feedforward_loop_participant,rich_club,repeller',\n",
       "       'feedforward_loop_participant,reciprocal,repeller',\n",
       "       'feedforward_loop_participant,rich_club,repeller',\n",
       "       '3_cycle_participant,feedforward_loop_participant,integrator,reciprocal,rich_club,attractor,repeller',\n",
       "       '3_cycle_participant,feedforward_loop_participant,highly_reciprocal_neuron,nsrn,reciprocal,rich_club,attractor',\n",
       "       'attractor,feedforward_loop_participant',\n",
       "       'attractor,feedforward_loop_participant,integrator,reciprocal,rich_club',\n",
       "       '3_cycle_participant,feedforward_loop_participant,rich_club,attractor,repeller',\n",
       "       '3_cycle_participant,feedforward_loop_participant,reciprocal,repeller',\n",
       "       'feedforward_loop_participant,repeller',\n",
       "       'attractor,feedforward_loop_participant,highly_reciprocal_neuron,nsrn,reciprocal,rich_club',\n",
       "       'broadcaster,feedforward_loop_participant,reciprocal,rich_club,repeller',\n",
       "       'broadcaster,feedforward_loop_participant,rich_club,repeller',\n",
       "       'reciprocal,repeller',\n",
       "       '3_cycle_participant,feedforward_loop_participant,highly_reciprocal_neuron,reciprocal,repeller',\n",
       "       '3_cycle_participant,feedforward_loop_participant,highly_reciprocal_neuron,reciprocal,rich_club,attractor',\n",
       "       'feedforward_loop_participant,highly_reciprocal_neuron,reciprocal,repeller',\n",
       "       'feedforward_loop_participant,highly_reciprocal_neuron,nsrn,reciprocal,rich_club,repeller',\n",
       "       'highly_reciprocal_neuron,reciprocal,repeller',\n",
       "       '3_cycle_participant,feedforward_loop_participant,rich_club',\n",
       "       '3_cycle_participant,feedforward_loop_participant,reciprocal,rich_club',\n",
       "       'feedforward_loop_participant,reciprocal,rich_club',\n",
       "       '3_cycle_participant,broadcaster,feedforward_loop_participant,reciprocal,rich_club',\n",
       "       'feedforward_loop_participant,rich_club',\n",
       "       'feedforward_loop_participant,highly_reciprocal_neuron,nsrn,reciprocal,rich_club',\n",
       "       '3_cycle_participant,feedforward_loop_participant,highly_reciprocal_neuron,nsrn,reciprocal,rich_club',\n",
       "       '3_cycle_participant,feedforward_loop_participant,integrator,reciprocal,rich_club',\n",
       "       '3_cycle_participant,broadcaster,feedforward_loop_participant,rich_club',\n",
       "       'broadcaster,feedforward_loop_participant,reciprocal,rich_club',\n",
       "       'feedforward_loop_participant,integrator,rich_club',\n",
       "       'feedforward_loop_participant,highly_reciprocal_neuron,reciprocal,rich_club',\n",
       "       '3_cycle_participant,feedforward_loop_participant,integrator,rich_club',\n",
       "       'feedforward_loop_participant,integrator,reciprocal,rich_club',\n",
       "       'broadcaster,feedforward_loop_participant,rich_club',\n",
       "       '3_cycle_participant,feedforward_loop_participant,highly_reciprocal_neuron,reciprocal,rich_club',\n",
       "       'reciprocal,rich_club', 'feedforward_loop_participant,reciprocal',\n",
       "       '3_cycle_participant,feedforward_loop_participant,reciprocal',\n",
       "       'reciprocal',\n",
       "       '3_cycle_participant,feedforward_loop_participant,highly_reciprocal_neuron,reciprocal',\n",
       "       'highly_reciprocal_neuron,reciprocal',\n",
       "       'feedforward_loop_participant,highly_reciprocal_neuron,reciprocal',\n",
       "       '3_cycle_participant,reciprocal',\n",
       "       '3_cycle_participant,highly_reciprocal_neuron,reciprocal',\n",
       "       'feedforward_loop_participant',\n",
       "       '3_cycle_participant,feedforward_loop_participant',\n",
       "       '3_cycle_participant'], dtype=object)"
      ]
     },
     "execution_count": 4,
     "metadata": {},
     "output_type": "execute_result"
    }
   ],
   "source": [
    "data1 = pd.read_csv('connectivity_tags.csv.gz')\n",
    "data1['connectivity_tag'].unique()"
   ]
  },
  {
   "cell_type": "code",
   "execution_count": 5,
   "metadata": {},
   "outputs": [
    {
     "data": {
      "text/html": [
       "<div>\n",
       "<style scoped>\n",
       "    .dataframe tbody tr th:only-of-type {\n",
       "        vertical-align: middle;\n",
       "    }\n",
       "\n",
       "    .dataframe tbody tr th {\n",
       "        vertical-align: top;\n",
       "    }\n",
       "\n",
       "    .dataframe thead th {\n",
       "        text-align: right;\n",
       "    }\n",
       "</style>\n",
       "<table border=\"1\" class=\"dataframe\">\n",
       "  <thead>\n",
       "    <tr style=\"text-align: right;\">\n",
       "      <th></th>\n",
       "      <th>root_id</th>\n",
       "      <th>label</th>\n",
       "      <th>user_id</th>\n",
       "      <th>position</th>\n",
       "      <th>supervoxel_id</th>\n",
       "      <th>label_id</th>\n",
       "      <th>date_created</th>\n",
       "      <th>user_name</th>\n",
       "      <th>user_affiliation</th>\n",
       "    </tr>\n",
       "  </thead>\n",
       "  <tbody>\n",
       "    <tr>\n",
       "      <th>0</th>\n",
       "      <td>720575940620306785</td>\n",
       "      <td>putative fru</td>\n",
       "      <td>22</td>\n",
       "      <td>[356596 169884 102760]</td>\n",
       "      <td>76774705348089545</td>\n",
       "      <td>1</td>\n",
       "      <td>2022-02-07 04:55:09</td>\n",
       "      <td>Dudi Deutsch</td>\n",
       "      <td>Mala Murthy Lab</td>\n",
       "    </tr>\n",
       "    <tr>\n",
       "      <th>1</th>\n",
       "      <td>720575940620306785</td>\n",
       "      <td>putative fru</td>\n",
       "      <td>2356</td>\n",
       "      <td>[356596 169884 102760]</td>\n",
       "      <td>76774705348089545</td>\n",
       "      <td>2</td>\n",
       "      <td>2022-02-07 04:55:09</td>\n",
       "      <td>Kaiyu Wang</td>\n",
       "      <td>Barry Dickson Lab</td>\n",
       "    </tr>\n",
       "    <tr>\n",
       "      <th>2</th>\n",
       "      <td>720575940620306785</td>\n",
       "      <td>aIP1c</td>\n",
       "      <td>22</td>\n",
       "      <td>[356596 169884 102760]</td>\n",
       "      <td>76774705348089545</td>\n",
       "      <td>3</td>\n",
       "      <td>2022-02-07 04:55:09</td>\n",
       "      <td>Dudi Deutsch</td>\n",
       "      <td>Mala Murthy Lab</td>\n",
       "    </tr>\n",
       "    <tr>\n",
       "      <th>3</th>\n",
       "      <td>720575940620306785</td>\n",
       "      <td>aIP1c</td>\n",
       "      <td>2356</td>\n",
       "      <td>[356596 169884 102760]</td>\n",
       "      <td>76774705348089545</td>\n",
       "      <td>4</td>\n",
       "      <td>2022-02-07 04:55:09</td>\n",
       "      <td>Kaiyu Wang</td>\n",
       "      <td>Barry Dickson Lab</td>\n",
       "    </tr>\n",
       "    <tr>\n",
       "      <th>4</th>\n",
       "      <td>720575940607848203</td>\n",
       "      <td>putative fru</td>\n",
       "      <td>22</td>\n",
       "      <td>[381456 181024  80800]</td>\n",
       "      <td>77197123904568079</td>\n",
       "      <td>5</td>\n",
       "      <td>2022-02-07 04:55:09</td>\n",
       "      <td>Dudi Deutsch</td>\n",
       "      <td>Mala Murthy Lab</td>\n",
       "    </tr>\n",
       "  </tbody>\n",
       "</table>\n",
       "</div>"
      ],
      "text/plain": [
       "              root_id         label  user_id                position  \\\n",
       "0  720575940620306785  putative fru       22  [356596 169884 102760]   \n",
       "1  720575940620306785  putative fru     2356  [356596 169884 102760]   \n",
       "2  720575940620306785         aIP1c       22  [356596 169884 102760]   \n",
       "3  720575940620306785         aIP1c     2356  [356596 169884 102760]   \n",
       "4  720575940607848203  putative fru       22  [381456 181024  80800]   \n",
       "\n",
       "       supervoxel_id  label_id         date_created     user_name  \\\n",
       "0  76774705348089545         1  2022-02-07 04:55:09  Dudi Deutsch   \n",
       "1  76774705348089545         2  2022-02-07 04:55:09    Kaiyu Wang   \n",
       "2  76774705348089545         3  2022-02-07 04:55:09  Dudi Deutsch   \n",
       "3  76774705348089545         4  2022-02-07 04:55:09    Kaiyu Wang   \n",
       "4  77197123904568079         5  2022-02-07 04:55:09  Dudi Deutsch   \n",
       "\n",
       "    user_affiliation  \n",
       "0    Mala Murthy Lab  \n",
       "1  Barry Dickson Lab  \n",
       "2    Mala Murthy Lab  \n",
       "3  Barry Dickson Lab  \n",
       "4    Mala Murthy Lab  "
      ]
     },
     "execution_count": 5,
     "metadata": {},
     "output_type": "execute_result"
    }
   ],
   "source": [
    "data2 = pd.read_csv('labels.csv.gz')\n",
    "data2.head()"
   ]
  },
  {
   "cell_type": "code",
   "execution_count": 6,
   "metadata": {},
   "outputs": [
    {
     "data": {
      "text/html": [
       "<div>\n",
       "<style scoped>\n",
       "    .dataframe tbody tr th:only-of-type {\n",
       "        vertical-align: middle;\n",
       "    }\n",
       "\n",
       "    .dataframe tbody tr th {\n",
       "        vertical-align: top;\n",
       "    }\n",
       "\n",
       "    .dataframe thead th {\n",
       "        text-align: right;\n",
       "    }\n",
       "</style>\n",
       "<table border=\"1\" class=\"dataframe\">\n",
       "  <thead>\n",
       "    <tr style=\"text-align: right;\">\n",
       "      <th></th>\n",
       "      <th>root_id</th>\n",
       "      <th>name</th>\n",
       "      <th>group</th>\n",
       "    </tr>\n",
       "  </thead>\n",
       "  <tbody>\n",
       "    <tr>\n",
       "      <th>0</th>\n",
       "      <td>720575940596125868</td>\n",
       "      <td>LO.LOP.561</td>\n",
       "      <td>LO.LOP</td>\n",
       "    </tr>\n",
       "    <tr>\n",
       "      <th>1</th>\n",
       "      <td>720575940597856265</td>\n",
       "      <td>ME.2982</td>\n",
       "      <td>ME</td>\n",
       "    </tr>\n",
       "    <tr>\n",
       "      <th>2</th>\n",
       "      <td>720575940597944841</td>\n",
       "      <td>ME.LO.7713</td>\n",
       "      <td>ME.LO</td>\n",
       "    </tr>\n",
       "    <tr>\n",
       "      <th>3</th>\n",
       "      <td>720575940598267657</td>\n",
       "      <td>ME.4244</td>\n",
       "      <td>ME</td>\n",
       "    </tr>\n",
       "    <tr>\n",
       "      <th>4</th>\n",
       "      <td>720575940599333574</td>\n",
       "      <td>ME.5182</td>\n",
       "      <td>ME</td>\n",
       "    </tr>\n",
       "  </tbody>\n",
       "</table>\n",
       "</div>"
      ],
      "text/plain": [
       "              root_id        name   group\n",
       "0  720575940596125868  LO.LOP.561  LO.LOP\n",
       "1  720575940597856265     ME.2982      ME\n",
       "2  720575940597944841  ME.LO.7713   ME.LO\n",
       "3  720575940598267657     ME.4244      ME\n",
       "4  720575940599333574     ME.5182      ME"
      ]
     },
     "execution_count": 6,
     "metadata": {},
     "output_type": "execute_result"
    }
   ],
   "source": [
    "data3 = pd.read_csv('names.csv.gz')\n",
    "data3.head()"
   ]
  },
  {
   "cell_type": "code",
   "execution_count": 7,
   "metadata": {},
   "outputs": [
    {
     "data": {
      "text/html": [
       "<div>\n",
       "<style scoped>\n",
       "    .dataframe tbody tr th:only-of-type {\n",
       "        vertical-align: middle;\n",
       "    }\n",
       "\n",
       "    .dataframe tbody tr th {\n",
       "        vertical-align: top;\n",
       "    }\n",
       "\n",
       "    .dataframe thead th {\n",
       "        text-align: right;\n",
       "    }\n",
       "</style>\n",
       "<table border=\"1\" class=\"dataframe\">\n",
       "  <thead>\n",
       "    <tr style=\"text-align: right;\">\n",
       "      <th></th>\n",
       "      <th>root_id</th>\n",
       "      <th>group</th>\n",
       "      <th>nt_type</th>\n",
       "      <th>nt_type_score</th>\n",
       "      <th>da_avg</th>\n",
       "      <th>ser_avg</th>\n",
       "      <th>gaba_avg</th>\n",
       "      <th>glut_avg</th>\n",
       "      <th>ach_avg</th>\n",
       "      <th>oct_avg</th>\n",
       "    </tr>\n",
       "  </thead>\n",
       "  <tbody>\n",
       "    <tr>\n",
       "      <th>0</th>\n",
       "      <td>720575940596125868</td>\n",
       "      <td>LO.LOP</td>\n",
       "      <td>ACH</td>\n",
       "      <td>0.57</td>\n",
       "      <td>0.03</td>\n",
       "      <td>0.00</td>\n",
       "      <td>0.05</td>\n",
       "      <td>0.28</td>\n",
       "      <td>0.57</td>\n",
       "      <td>0.07</td>\n",
       "    </tr>\n",
       "    <tr>\n",
       "      <th>1</th>\n",
       "      <td>720575940597856265</td>\n",
       "      <td>ME</td>\n",
       "      <td>ACH</td>\n",
       "      <td>0.85</td>\n",
       "      <td>0.01</td>\n",
       "      <td>0.00</td>\n",
       "      <td>0.03</td>\n",
       "      <td>0.04</td>\n",
       "      <td>0.85</td>\n",
       "      <td>0.07</td>\n",
       "    </tr>\n",
       "    <tr>\n",
       "      <th>2</th>\n",
       "      <td>720575940597944841</td>\n",
       "      <td>ME.LO</td>\n",
       "      <td>ACH</td>\n",
       "      <td>0.82</td>\n",
       "      <td>0.02</td>\n",
       "      <td>0.00</td>\n",
       "      <td>0.01</td>\n",
       "      <td>0.05</td>\n",
       "      <td>0.82</td>\n",
       "      <td>0.09</td>\n",
       "    </tr>\n",
       "    <tr>\n",
       "      <th>3</th>\n",
       "      <td>720575940598267657</td>\n",
       "      <td>ME</td>\n",
       "      <td>GABA</td>\n",
       "      <td>0.74</td>\n",
       "      <td>0.01</td>\n",
       "      <td>0.01</td>\n",
       "      <td>0.74</td>\n",
       "      <td>0.19</td>\n",
       "      <td>0.03</td>\n",
       "      <td>0.02</td>\n",
       "    </tr>\n",
       "    <tr>\n",
       "      <th>4</th>\n",
       "      <td>720575940599333574</td>\n",
       "      <td>ME</td>\n",
       "      <td>ACH</td>\n",
       "      <td>0.61</td>\n",
       "      <td>0.02</td>\n",
       "      <td>0.00</td>\n",
       "      <td>0.13</td>\n",
       "      <td>0.13</td>\n",
       "      <td>0.61</td>\n",
       "      <td>0.11</td>\n",
       "    </tr>\n",
       "  </tbody>\n",
       "</table>\n",
       "</div>"
      ],
      "text/plain": [
       "              root_id   group nt_type  nt_type_score  da_avg  ser_avg  \\\n",
       "0  720575940596125868  LO.LOP     ACH           0.57    0.03     0.00   \n",
       "1  720575940597856265      ME     ACH           0.85    0.01     0.00   \n",
       "2  720575940597944841   ME.LO     ACH           0.82    0.02     0.00   \n",
       "3  720575940598267657      ME    GABA           0.74    0.01     0.01   \n",
       "4  720575940599333574      ME     ACH           0.61    0.02     0.00   \n",
       "\n",
       "   gaba_avg  glut_avg  ach_avg  oct_avg  \n",
       "0      0.05      0.28     0.57     0.07  \n",
       "1      0.03      0.04     0.85     0.07  \n",
       "2      0.01      0.05     0.82     0.09  \n",
       "3      0.74      0.19     0.03     0.02  \n",
       "4      0.13      0.13     0.61     0.11  "
      ]
     },
     "execution_count": 7,
     "metadata": {},
     "output_type": "execute_result"
    }
   ],
   "source": [
    "data4 = pd.read_csv('neurons.csv.gz')\n",
    "data4.head()"
   ]
  },
  {
   "cell_type": "code",
   "execution_count": 8,
   "metadata": {},
   "outputs": [
    {
     "data": {
      "text/html": [
       "<div>\n",
       "<style scoped>\n",
       "    .dataframe tbody tr th:only-of-type {\n",
       "        vertical-align: middle;\n",
       "    }\n",
       "\n",
       "    .dataframe tbody tr th {\n",
       "        vertical-align: top;\n",
       "    }\n",
       "\n",
       "    .dataframe thead th {\n",
       "        text-align: right;\n",
       "    }\n",
       "</style>\n",
       "<table border=\"1\" class=\"dataframe\">\n",
       "  <thead>\n",
       "    <tr style=\"text-align: right;\">\n",
       "      <th></th>\n",
       "      <th>root_id</th>\n",
       "      <th>input synapses</th>\n",
       "      <th>input partners</th>\n",
       "      <th>output synapses</th>\n",
       "      <th>output partners</th>\n",
       "      <th>input synapses in AL_L</th>\n",
       "      <th>input synapses in AL_R</th>\n",
       "      <th>input synapses in AME_L</th>\n",
       "      <th>input synapses in AME_R</th>\n",
       "      <th>input synapses in AMMC_L</th>\n",
       "      <th>...</th>\n",
       "      <th>output partners in SLP_R</th>\n",
       "      <th>output partners in SMP_L</th>\n",
       "      <th>output partners in SMP_R</th>\n",
       "      <th>output partners in SPS_L</th>\n",
       "      <th>output partners in SPS_R</th>\n",
       "      <th>output partners in UNASGD</th>\n",
       "      <th>output partners in VES_L</th>\n",
       "      <th>output partners in VES_R</th>\n",
       "      <th>output partners in WED_L</th>\n",
       "      <th>output partners in WED_R</th>\n",
       "    </tr>\n",
       "  </thead>\n",
       "  <tbody>\n",
       "    <tr>\n",
       "      <th>0</th>\n",
       "      <td>720575940596125868</td>\n",
       "      <td>99</td>\n",
       "      <td>13</td>\n",
       "      <td>98</td>\n",
       "      <td>13</td>\n",
       "      <td>0</td>\n",
       "      <td>0</td>\n",
       "      <td>0</td>\n",
       "      <td>0</td>\n",
       "      <td>0</td>\n",
       "      <td>...</td>\n",
       "      <td>0</td>\n",
       "      <td>0</td>\n",
       "      <td>0</td>\n",
       "      <td>0</td>\n",
       "      <td>0</td>\n",
       "      <td>0</td>\n",
       "      <td>0</td>\n",
       "      <td>0</td>\n",
       "      <td>0</td>\n",
       "      <td>0</td>\n",
       "    </tr>\n",
       "    <tr>\n",
       "      <th>1</th>\n",
       "      <td>720575940597856265</td>\n",
       "      <td>185</td>\n",
       "      <td>24</td>\n",
       "      <td>401</td>\n",
       "      <td>50</td>\n",
       "      <td>0</td>\n",
       "      <td>0</td>\n",
       "      <td>0</td>\n",
       "      <td>0</td>\n",
       "      <td>0</td>\n",
       "      <td>...</td>\n",
       "      <td>0</td>\n",
       "      <td>0</td>\n",
       "      <td>0</td>\n",
       "      <td>0</td>\n",
       "      <td>0</td>\n",
       "      <td>0</td>\n",
       "      <td>0</td>\n",
       "      <td>0</td>\n",
       "      <td>0</td>\n",
       "      <td>0</td>\n",
       "    </tr>\n",
       "    <tr>\n",
       "      <th>2</th>\n",
       "      <td>720575940597944841</td>\n",
       "      <td>106</td>\n",
       "      <td>11</td>\n",
       "      <td>102</td>\n",
       "      <td>15</td>\n",
       "      <td>0</td>\n",
       "      <td>0</td>\n",
       "      <td>0</td>\n",
       "      <td>0</td>\n",
       "      <td>0</td>\n",
       "      <td>...</td>\n",
       "      <td>0</td>\n",
       "      <td>0</td>\n",
       "      <td>0</td>\n",
       "      <td>0</td>\n",
       "      <td>0</td>\n",
       "      <td>0</td>\n",
       "      <td>0</td>\n",
       "      <td>0</td>\n",
       "      <td>0</td>\n",
       "      <td>0</td>\n",
       "    </tr>\n",
       "    <tr>\n",
       "      <th>3</th>\n",
       "      <td>720575940598267657</td>\n",
       "      <td>400</td>\n",
       "      <td>49</td>\n",
       "      <td>110</td>\n",
       "      <td>15</td>\n",
       "      <td>0</td>\n",
       "      <td>0</td>\n",
       "      <td>0</td>\n",
       "      <td>0</td>\n",
       "      <td>0</td>\n",
       "      <td>...</td>\n",
       "      <td>0</td>\n",
       "      <td>0</td>\n",
       "      <td>0</td>\n",
       "      <td>0</td>\n",
       "      <td>0</td>\n",
       "      <td>0</td>\n",
       "      <td>0</td>\n",
       "      <td>0</td>\n",
       "      <td>0</td>\n",
       "      <td>0</td>\n",
       "    </tr>\n",
       "    <tr>\n",
       "      <th>4</th>\n",
       "      <td>720575940599333574</td>\n",
       "      <td>278</td>\n",
       "      <td>15</td>\n",
       "      <td>641</td>\n",
       "      <td>43</td>\n",
       "      <td>0</td>\n",
       "      <td>0</td>\n",
       "      <td>0</td>\n",
       "      <td>0</td>\n",
       "      <td>0</td>\n",
       "      <td>...</td>\n",
       "      <td>0</td>\n",
       "      <td>0</td>\n",
       "      <td>0</td>\n",
       "      <td>0</td>\n",
       "      <td>0</td>\n",
       "      <td>0</td>\n",
       "      <td>0</td>\n",
       "      <td>0</td>\n",
       "      <td>0</td>\n",
       "      <td>0</td>\n",
       "    </tr>\n",
       "  </tbody>\n",
       "</table>\n",
       "<p>5 rows × 321 columns</p>\n",
       "</div>"
      ],
      "text/plain": [
       "              root_id  input synapses  input partners  output synapses  \\\n",
       "0  720575940596125868              99              13               98   \n",
       "1  720575940597856265             185              24              401   \n",
       "2  720575940597944841             106              11              102   \n",
       "3  720575940598267657             400              49              110   \n",
       "4  720575940599333574             278              15              641   \n",
       "\n",
       "   output partners  input synapses in AL_L  input synapses in AL_R  \\\n",
       "0               13                       0                       0   \n",
       "1               50                       0                       0   \n",
       "2               15                       0                       0   \n",
       "3               15                       0                       0   \n",
       "4               43                       0                       0   \n",
       "\n",
       "   input synapses in AME_L  input synapses in AME_R  input synapses in AMMC_L  \\\n",
       "0                        0                        0                         0   \n",
       "1                        0                        0                         0   \n",
       "2                        0                        0                         0   \n",
       "3                        0                        0                         0   \n",
       "4                        0                        0                         0   \n",
       "\n",
       "   ...  output partners in SLP_R  output partners in SMP_L  \\\n",
       "0  ...                         0                         0   \n",
       "1  ...                         0                         0   \n",
       "2  ...                         0                         0   \n",
       "3  ...                         0                         0   \n",
       "4  ...                         0                         0   \n",
       "\n",
       "   output partners in SMP_R  output partners in SPS_L  \\\n",
       "0                         0                         0   \n",
       "1                         0                         0   \n",
       "2                         0                         0   \n",
       "3                         0                         0   \n",
       "4                         0                         0   \n",
       "\n",
       "   output partners in SPS_R  output partners in UNASGD  \\\n",
       "0                         0                          0   \n",
       "1                         0                          0   \n",
       "2                         0                          0   \n",
       "3                         0                          0   \n",
       "4                         0                          0   \n",
       "\n",
       "   output partners in VES_L  output partners in VES_R  \\\n",
       "0                         0                         0   \n",
       "1                         0                         0   \n",
       "2                         0                         0   \n",
       "3                         0                         0   \n",
       "4                         0                         0   \n",
       "\n",
       "   output partners in WED_L  output partners in WED_R  \n",
       "0                         0                         0  \n",
       "1                         0                         0  \n",
       "2                         0                         0  \n",
       "3                         0                         0  \n",
       "4                         0                         0  \n",
       "\n",
       "[5 rows x 321 columns]"
      ]
     },
     "execution_count": 8,
     "metadata": {},
     "output_type": "execute_result"
    }
   ],
   "source": [
    "data5 = pd.read_csv('neuropil_synapse_table.csv.gz')\n",
    "data5.head()"
   ]
  },
  {
   "cell_type": "code",
   "execution_count": 9,
   "metadata": {},
   "outputs": [
    {
     "data": {
      "text/html": [
       "<div>\n",
       "<style scoped>\n",
       "    .dataframe tbody tr th:only-of-type {\n",
       "        vertical-align: middle;\n",
       "    }\n",
       "\n",
       "    .dataframe tbody tr th {\n",
       "        vertical-align: top;\n",
       "    }\n",
       "\n",
       "    .dataframe thead th {\n",
       "        text-align: right;\n",
       "    }\n",
       "</style>\n",
       "<table border=\"1\" class=\"dataframe\">\n",
       "  <thead>\n",
       "    <tr style=\"text-align: right;\">\n",
       "      <th></th>\n",
       "      <th>root_id</th>\n",
       "      <th>type</th>\n",
       "      <th>category</th>\n",
       "      <th>side</th>\n",
       "    </tr>\n",
       "  </thead>\n",
       "  <tbody>\n",
       "    <tr>\n",
       "      <th>0</th>\n",
       "      <td>720575940618229051</td>\n",
       "      <td>5-HTPMPV03</td>\n",
       "      <td>OL boundary</td>\n",
       "      <td>right</td>\n",
       "    </tr>\n",
       "    <tr>\n",
       "      <th>1</th>\n",
       "      <td>720575940627247802</td>\n",
       "      <td>5-HTPMPV03</td>\n",
       "      <td>OL boundary</td>\n",
       "      <td>right</td>\n",
       "    </tr>\n",
       "    <tr>\n",
       "      <th>2</th>\n",
       "      <td>720575940618073792</td>\n",
       "      <td>AOTU053</td>\n",
       "      <td>OL boundary</td>\n",
       "      <td>right</td>\n",
       "    </tr>\n",
       "    <tr>\n",
       "      <th>3</th>\n",
       "      <td>720575940629248374</td>\n",
       "      <td>AOTU065</td>\n",
       "      <td>OL boundary</td>\n",
       "      <td>right</td>\n",
       "    </tr>\n",
       "    <tr>\n",
       "      <th>4</th>\n",
       "      <td>720575940630311383</td>\n",
       "      <td>AVLP151</td>\n",
       "      <td>OL boundary</td>\n",
       "      <td>right</td>\n",
       "    </tr>\n",
       "  </tbody>\n",
       "</table>\n",
       "</div>"
      ],
      "text/plain": [
       "              root_id        type     category   side\n",
       "0  720575940618229051  5-HTPMPV03  OL boundary  right\n",
       "1  720575940627247802  5-HTPMPV03  OL boundary  right\n",
       "2  720575940618073792     AOTU053  OL boundary  right\n",
       "3  720575940629248374     AOTU065  OL boundary  right\n",
       "4  720575940630311383     AVLP151  OL boundary  right"
      ]
     },
     "execution_count": 9,
     "metadata": {},
     "output_type": "execute_result"
    }
   ],
   "source": [
    "data6 = pd.read_csv('visual_neuron_types.csv.gz')\n",
    "data6.head()"
   ]
  },
  {
   "cell_type": "code",
   "execution_count": 10,
   "metadata": {},
   "outputs": [
    {
     "data": {
      "application/vnd.plotly.v1+json": {
       "config": {
        "plotlyServerURL": "https://plot.ly"
       },
       "data": [
        {
         "marker": {
          "color": [
           155360,
           345678
          ],
          "colorscale": [
           [
            0,
            "#440154"
           ],
           [
            0.1111111111111111,
            "#482878"
           ],
           [
            0.2222222222222222,
            "#3e4989"
           ],
           [
            0.3333333333333333,
            "#31688e"
           ],
           [
            0.4444444444444444,
            "#26828e"
           ],
           [
            0.5555555555555556,
            "#1f9e89"
           ],
           [
            0.6666666666666666,
            "#35b779"
           ],
           [
            0.7777777777777778,
            "#6ece58"
           ],
           [
            0.8888888888888888,
            "#b5de2b"
           ],
           [
            1,
            "#fde725"
           ]
          ],
          "opacity": 0.8,
          "size": 5
         },
         "mode": "markers",
         "type": "scatter3d",
         "x": [
          874248,
          123456
         ],
         "y": [
          328204,
          789012
         ],
         "z": [
          155360,
          345678
         ]
        }
       ],
       "layout": {
        "height": 800,
        "scene": {
         "xaxis": {
          "title": {
           "text": "X Axis"
          }
         },
         "yaxis": {
          "title": {
           "text": "Y Axis"
          }
         },
         "zaxis": {
          "title": {
           "text": "Z Axis"
          }
         }
        },
        "template": {
         "data": {
          "bar": [
           {
            "error_x": {
             "color": "#2a3f5f"
            },
            "error_y": {
             "color": "#2a3f5f"
            },
            "marker": {
             "line": {
              "color": "#E5ECF6",
              "width": 0.5
             },
             "pattern": {
              "fillmode": "overlay",
              "size": 10,
              "solidity": 0.2
             }
            },
            "type": "bar"
           }
          ],
          "barpolar": [
           {
            "marker": {
             "line": {
              "color": "#E5ECF6",
              "width": 0.5
             },
             "pattern": {
              "fillmode": "overlay",
              "size": 10,
              "solidity": 0.2
             }
            },
            "type": "barpolar"
           }
          ],
          "carpet": [
           {
            "aaxis": {
             "endlinecolor": "#2a3f5f",
             "gridcolor": "white",
             "linecolor": "white",
             "minorgridcolor": "white",
             "startlinecolor": "#2a3f5f"
            },
            "baxis": {
             "endlinecolor": "#2a3f5f",
             "gridcolor": "white",
             "linecolor": "white",
             "minorgridcolor": "white",
             "startlinecolor": "#2a3f5f"
            },
            "type": "carpet"
           }
          ],
          "choropleth": [
           {
            "colorbar": {
             "outlinewidth": 0,
             "ticks": ""
            },
            "type": "choropleth"
           }
          ],
          "contour": [
           {
            "colorbar": {
             "outlinewidth": 0,
             "ticks": ""
            },
            "colorscale": [
             [
              0,
              "#0d0887"
             ],
             [
              0.1111111111111111,
              "#46039f"
             ],
             [
              0.2222222222222222,
              "#7201a8"
             ],
             [
              0.3333333333333333,
              "#9c179e"
             ],
             [
              0.4444444444444444,
              "#bd3786"
             ],
             [
              0.5555555555555556,
              "#d8576b"
             ],
             [
              0.6666666666666666,
              "#ed7953"
             ],
             [
              0.7777777777777778,
              "#fb9f3a"
             ],
             [
              0.8888888888888888,
              "#fdca26"
             ],
             [
              1,
              "#f0f921"
             ]
            ],
            "type": "contour"
           }
          ],
          "contourcarpet": [
           {
            "colorbar": {
             "outlinewidth": 0,
             "ticks": ""
            },
            "type": "contourcarpet"
           }
          ],
          "heatmap": [
           {
            "colorbar": {
             "outlinewidth": 0,
             "ticks": ""
            },
            "colorscale": [
             [
              0,
              "#0d0887"
             ],
             [
              0.1111111111111111,
              "#46039f"
             ],
             [
              0.2222222222222222,
              "#7201a8"
             ],
             [
              0.3333333333333333,
              "#9c179e"
             ],
             [
              0.4444444444444444,
              "#bd3786"
             ],
             [
              0.5555555555555556,
              "#d8576b"
             ],
             [
              0.6666666666666666,
              "#ed7953"
             ],
             [
              0.7777777777777778,
              "#fb9f3a"
             ],
             [
              0.8888888888888888,
              "#fdca26"
             ],
             [
              1,
              "#f0f921"
             ]
            ],
            "type": "heatmap"
           }
          ],
          "heatmapgl": [
           {
            "colorbar": {
             "outlinewidth": 0,
             "ticks": ""
            },
            "colorscale": [
             [
              0,
              "#0d0887"
             ],
             [
              0.1111111111111111,
              "#46039f"
             ],
             [
              0.2222222222222222,
              "#7201a8"
             ],
             [
              0.3333333333333333,
              "#9c179e"
             ],
             [
              0.4444444444444444,
              "#bd3786"
             ],
             [
              0.5555555555555556,
              "#d8576b"
             ],
             [
              0.6666666666666666,
              "#ed7953"
             ],
             [
              0.7777777777777778,
              "#fb9f3a"
             ],
             [
              0.8888888888888888,
              "#fdca26"
             ],
             [
              1,
              "#f0f921"
             ]
            ],
            "type": "heatmapgl"
           }
          ],
          "histogram": [
           {
            "marker": {
             "pattern": {
              "fillmode": "overlay",
              "size": 10,
              "solidity": 0.2
             }
            },
            "type": "histogram"
           }
          ],
          "histogram2d": [
           {
            "colorbar": {
             "outlinewidth": 0,
             "ticks": ""
            },
            "colorscale": [
             [
              0,
              "#0d0887"
             ],
             [
              0.1111111111111111,
              "#46039f"
             ],
             [
              0.2222222222222222,
              "#7201a8"
             ],
             [
              0.3333333333333333,
              "#9c179e"
             ],
             [
              0.4444444444444444,
              "#bd3786"
             ],
             [
              0.5555555555555556,
              "#d8576b"
             ],
             [
              0.6666666666666666,
              "#ed7953"
             ],
             [
              0.7777777777777778,
              "#fb9f3a"
             ],
             [
              0.8888888888888888,
              "#fdca26"
             ],
             [
              1,
              "#f0f921"
             ]
            ],
            "type": "histogram2d"
           }
          ],
          "histogram2dcontour": [
           {
            "colorbar": {
             "outlinewidth": 0,
             "ticks": ""
            },
            "colorscale": [
             [
              0,
              "#0d0887"
             ],
             [
              0.1111111111111111,
              "#46039f"
             ],
             [
              0.2222222222222222,
              "#7201a8"
             ],
             [
              0.3333333333333333,
              "#9c179e"
             ],
             [
              0.4444444444444444,
              "#bd3786"
             ],
             [
              0.5555555555555556,
              "#d8576b"
             ],
             [
              0.6666666666666666,
              "#ed7953"
             ],
             [
              0.7777777777777778,
              "#fb9f3a"
             ],
             [
              0.8888888888888888,
              "#fdca26"
             ],
             [
              1,
              "#f0f921"
             ]
            ],
            "type": "histogram2dcontour"
           }
          ],
          "mesh3d": [
           {
            "colorbar": {
             "outlinewidth": 0,
             "ticks": ""
            },
            "type": "mesh3d"
           }
          ],
          "parcoords": [
           {
            "line": {
             "colorbar": {
              "outlinewidth": 0,
              "ticks": ""
             }
            },
            "type": "parcoords"
           }
          ],
          "pie": [
           {
            "automargin": true,
            "type": "pie"
           }
          ],
          "scatter": [
           {
            "fillpattern": {
             "fillmode": "overlay",
             "size": 10,
             "solidity": 0.2
            },
            "type": "scatter"
           }
          ],
          "scatter3d": [
           {
            "line": {
             "colorbar": {
              "outlinewidth": 0,
              "ticks": ""
             }
            },
            "marker": {
             "colorbar": {
              "outlinewidth": 0,
              "ticks": ""
             }
            },
            "type": "scatter3d"
           }
          ],
          "scattercarpet": [
           {
            "marker": {
             "colorbar": {
              "outlinewidth": 0,
              "ticks": ""
             }
            },
            "type": "scattercarpet"
           }
          ],
          "scattergeo": [
           {
            "marker": {
             "colorbar": {
              "outlinewidth": 0,
              "ticks": ""
             }
            },
            "type": "scattergeo"
           }
          ],
          "scattergl": [
           {
            "marker": {
             "colorbar": {
              "outlinewidth": 0,
              "ticks": ""
             }
            },
            "type": "scattergl"
           }
          ],
          "scattermapbox": [
           {
            "marker": {
             "colorbar": {
              "outlinewidth": 0,
              "ticks": ""
             }
            },
            "type": "scattermapbox"
           }
          ],
          "scatterpolar": [
           {
            "marker": {
             "colorbar": {
              "outlinewidth": 0,
              "ticks": ""
             }
            },
            "type": "scatterpolar"
           }
          ],
          "scatterpolargl": [
           {
            "marker": {
             "colorbar": {
              "outlinewidth": 0,
              "ticks": ""
             }
            },
            "type": "scatterpolargl"
           }
          ],
          "scatterternary": [
           {
            "marker": {
             "colorbar": {
              "outlinewidth": 0,
              "ticks": ""
             }
            },
            "type": "scatterternary"
           }
          ],
          "surface": [
           {
            "colorbar": {
             "outlinewidth": 0,
             "ticks": ""
            },
            "colorscale": [
             [
              0,
              "#0d0887"
             ],
             [
              0.1111111111111111,
              "#46039f"
             ],
             [
              0.2222222222222222,
              "#7201a8"
             ],
             [
              0.3333333333333333,
              "#9c179e"
             ],
             [
              0.4444444444444444,
              "#bd3786"
             ],
             [
              0.5555555555555556,
              "#d8576b"
             ],
             [
              0.6666666666666666,
              "#ed7953"
             ],
             [
              0.7777777777777778,
              "#fb9f3a"
             ],
             [
              0.8888888888888888,
              "#fdca26"
             ],
             [
              1,
              "#f0f921"
             ]
            ],
            "type": "surface"
           }
          ],
          "table": [
           {
            "cells": {
             "fill": {
              "color": "#EBF0F8"
             },
             "line": {
              "color": "white"
             }
            },
            "header": {
             "fill": {
              "color": "#C8D4E3"
             },
             "line": {
              "color": "white"
             }
            },
            "type": "table"
           }
          ]
         },
         "layout": {
          "annotationdefaults": {
           "arrowcolor": "#2a3f5f",
           "arrowhead": 0,
           "arrowwidth": 1
          },
          "autotypenumbers": "strict",
          "coloraxis": {
           "colorbar": {
            "outlinewidth": 0,
            "ticks": ""
           }
          },
          "colorscale": {
           "diverging": [
            [
             0,
             "#8e0152"
            ],
            [
             0.1,
             "#c51b7d"
            ],
            [
             0.2,
             "#de77ae"
            ],
            [
             0.3,
             "#f1b6da"
            ],
            [
             0.4,
             "#fde0ef"
            ],
            [
             0.5,
             "#f7f7f7"
            ],
            [
             0.6,
             "#e6f5d0"
            ],
            [
             0.7,
             "#b8e186"
            ],
            [
             0.8,
             "#7fbc41"
            ],
            [
             0.9,
             "#4d9221"
            ],
            [
             1,
             "#276419"
            ]
           ],
           "sequential": [
            [
             0,
             "#0d0887"
            ],
            [
             0.1111111111111111,
             "#46039f"
            ],
            [
             0.2222222222222222,
             "#7201a8"
            ],
            [
             0.3333333333333333,
             "#9c179e"
            ],
            [
             0.4444444444444444,
             "#bd3786"
            ],
            [
             0.5555555555555556,
             "#d8576b"
            ],
            [
             0.6666666666666666,
             "#ed7953"
            ],
            [
             0.7777777777777778,
             "#fb9f3a"
            ],
            [
             0.8888888888888888,
             "#fdca26"
            ],
            [
             1,
             "#f0f921"
            ]
           ],
           "sequentialminus": [
            [
             0,
             "#0d0887"
            ],
            [
             0.1111111111111111,
             "#46039f"
            ],
            [
             0.2222222222222222,
             "#7201a8"
            ],
            [
             0.3333333333333333,
             "#9c179e"
            ],
            [
             0.4444444444444444,
             "#bd3786"
            ],
            [
             0.5555555555555556,
             "#d8576b"
            ],
            [
             0.6666666666666666,
             "#ed7953"
            ],
            [
             0.7777777777777778,
             "#fb9f3a"
            ],
            [
             0.8888888888888888,
             "#fdca26"
            ],
            [
             1,
             "#f0f921"
            ]
           ]
          },
          "colorway": [
           "#636efa",
           "#EF553B",
           "#00cc96",
           "#ab63fa",
           "#FFA15A",
           "#19d3f3",
           "#FF6692",
           "#B6E880",
           "#FF97FF",
           "#FECB52"
          ],
          "font": {
           "color": "#2a3f5f"
          },
          "geo": {
           "bgcolor": "white",
           "lakecolor": "white",
           "landcolor": "#E5ECF6",
           "showlakes": true,
           "showland": true,
           "subunitcolor": "white"
          },
          "hoverlabel": {
           "align": "left"
          },
          "hovermode": "closest",
          "mapbox": {
           "style": "light"
          },
          "paper_bgcolor": "white",
          "plot_bgcolor": "#E5ECF6",
          "polar": {
           "angularaxis": {
            "gridcolor": "white",
            "linecolor": "white",
            "ticks": ""
           },
           "bgcolor": "#E5ECF6",
           "radialaxis": {
            "gridcolor": "white",
            "linecolor": "white",
            "ticks": ""
           }
          },
          "scene": {
           "xaxis": {
            "backgroundcolor": "#E5ECF6",
            "gridcolor": "white",
            "gridwidth": 2,
            "linecolor": "white",
            "showbackground": true,
            "ticks": "",
            "zerolinecolor": "white"
           },
           "yaxis": {
            "backgroundcolor": "#E5ECF6",
            "gridcolor": "white",
            "gridwidth": 2,
            "linecolor": "white",
            "showbackground": true,
            "ticks": "",
            "zerolinecolor": "white"
           },
           "zaxis": {
            "backgroundcolor": "#E5ECF6",
            "gridcolor": "white",
            "gridwidth": 2,
            "linecolor": "white",
            "showbackground": true,
            "ticks": "",
            "zerolinecolor": "white"
           }
          },
          "shapedefaults": {
           "line": {
            "color": "#2a3f5f"
           }
          },
          "ternary": {
           "aaxis": {
            "gridcolor": "white",
            "linecolor": "white",
            "ticks": ""
           },
           "baxis": {
            "gridcolor": "white",
            "linecolor": "white",
            "ticks": ""
           },
           "bgcolor": "#E5ECF6",
           "caxis": {
            "gridcolor": "white",
            "linecolor": "white",
            "ticks": ""
           }
          },
          "title": {
           "x": 0.05
          },
          "xaxis": {
           "automargin": true,
           "gridcolor": "white",
           "linecolor": "white",
           "ticks": "",
           "title": {
            "standoff": 15
           },
           "zerolinecolor": "white",
           "zerolinewidth": 2
          },
          "yaxis": {
           "automargin": true,
           "gridcolor": "white",
           "linecolor": "white",
           "ticks": "",
           "title": {
            "standoff": 15
           },
           "zerolinecolor": "white",
           "zerolinewidth": 2
          }
         }
        },
        "title": {
         "text": "3D Scatter Plot"
        },
        "width": 800
       }
      }
     },
     "metadata": {},
     "output_type": "display_data"
    }
   ],
   "source": [
    "import plotly.graph_objects as go\n",
    "import pandas as pd\n",
    "import ast\n",
    "\n",
    "# 假设您的DataFrame名为df，position列包含坐标\n",
    "# 如果position列的数据类型是字符串，我们需要先将其转换为列表\n",
    "df = pd.DataFrame({'position': ['[874248, 328204, 155360]', '[123456, 789012, 345678]']})\n",
    "df['position'] = df['position'].apply(ast.literal_eval)\n",
    "\n",
    "# 将position列分解为x, y, z三列\n",
    "df['x'] = df['position'].apply(lambda x: x[0])\n",
    "df['y'] = df['position'].apply(lambda x: x[1])\n",
    "df['z'] = df['position'].apply(lambda x: x[2])\n",
    "\n",
    "# 创建3D散点图\n",
    "fig = go.Figure(data=[go.Scatter3d(\n",
    "    x=df['x'],\n",
    "    y=df['y'],\n",
    "    z=df['z'],\n",
    "    mode='markers',\n",
    "    marker=dict(\n",
    "        size=5,\n",
    "        color=df['z'],  # 设置颜色\n",
    "        colorscale='Viridis',  # 选择颜色主题\n",
    "        opacity=0.8\n",
    "    )\n",
    ")])\n",
    "\n",
    "# 更新布局\n",
    "fig.update_layout(\n",
    "    title='3D Scatter Plot',\n",
    "    scene=dict(\n",
    "        xaxis_title='X Axis',\n",
    "        yaxis_title='Y Axis',\n",
    "        zaxis_title='Z Axis'\n",
    "    ),\n",
    "    width=800,\n",
    "    height=800\n",
    ")\n",
    "\n",
    "# 显示图形\n",
    "fig.show()"
   ]
  },
  {
   "cell_type": "code",
   "execution_count": 1,
   "metadata": {},
   "outputs": [
    {
     "name": "stdout",
     "output_type": "stream",
     "text": [
      "\n",
      "              -- NEST GPU --\n",
      "\n",
      "  Copyright (C) 2021 The NEST Initiative\n",
      "\n",
      " This program is provided AS IS and comes with\n",
      " NO WARRANTY. See the file LICENSE for details.\n",
      "\n",
      " Homepage: https://github.com/nest/nest-gpu\n",
      "\n",
      "Calibrating ...\n",
      "Simulating ...\n",
      "Neural activity simulation time: 1000.000 ms\n",
      "\n",
      "  SpikeBufferUpdate_time: 0.00977744\n",
      "  poisson_generator_time: 0.000165187\n",
      "  neuron_Update_time: 0.0269542\n",
      "  copy_ext_spike_time: 0\n",
      "  SendExternalSpike_time: 0\n",
      "  SendSpikeToRemote_time: 0\n",
      "  RecvSpikeFromRemote_time: 0\n",
      "  NestedLoop_time: 0\n",
      "  GetSpike_time: 0.00936979\n",
      "  SpikeReset_time: 0.00950243\n",
      "  ExternalSpikeReset_time: 0\n",
      "Building time: 0.0226448\n",
      "Simulation time: 0.320239\n"
     ]
    },
    {
     "data": {
      "image/png": "[encoded data removed]",
      "text/plain": [
       "<Figure size 640x480 with 1 Axes>"
      ]
     },
     "metadata": {},
     "output_type": "display_data"
    }
   ],
   "source": [
    "import nestgpu as ngpu\n",
    "\n",
    "neuron = ngpu.Create(\"aeif_cond_beta\")\n",
    "\n",
    "ngpu.SetStatus(neuron, {\"I_e\":1000.0})\n",
    "\n",
    "record = ngpu.CreateRecord(\"\", [\"V_m\"], [neuron[0]], [0])\n",
    "\n",
    "ngpu.Simulate()\n",
    "\n",
    "data_list = ngpu.GetRecordData(record)\n",
    "t=[row[0] for row in data_list]\n",
    "V_m=[row[1] for row in data_list]\n",
    "\n",
    "import matplotlib.pyplot as plt\n",
    "\n",
    "plt.figure(1)\n",
    "plt.plot(t, V_m)\n",
    "\n",
    "plt.draw()\n",
    "plt.pause(1)\n",
    "ngpu.waitenter(\"<Hit Enter To Close>\")\n",
    "plt.close()\n"
   ]
  },
  {
   "cell_type": "code",
   "execution_count": null,
   "metadata": {},
   "outputs": [],
   "source": []
  }
 ],
 "metadata": {
  "kernelspec": {
   "display_name": "connectome_data",
   "language": "python",
   "name": "python3"
  },
  "language_info": {
   "codemirror_mode": {
    "name": "ipython",
    "version": 3
   },
   "file_extension": ".py",
   "mimetype": "text/x-python",
   "name": "python",
   "nbconvert_exporter": "python",
   "pygments_lexer": "ipython3",
   "version": "3.12.4"
  }
 },
 "nbformat": 4,
 "nbformat_minor": 2
}
