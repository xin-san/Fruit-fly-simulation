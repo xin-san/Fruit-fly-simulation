{
 "cells": [
  {
   "cell_type": "code",
   "execution_count": 2,
   "metadata": {},
   "outputs": [],
   "source": [
    "import pandas as pd\n",
    "import numpy as np\n"
   ]
  },
  {
   "cell_type": "code",
   "execution_count": 3,
   "metadata": {},
   "outputs": [],
   "source": [
    "positions = pd.read_csv('../coordinates.csv.gz')\n",
    "neroInfo = pd.read_csv('../classification.csv.gz')\n",
    "\n"
   ]
  },
  {
   "cell_type": "code",
   "execution_count": 4,
   "metadata": {},
   "outputs": [],
   "source": [
    "# convert position to three columns x,y,z\n",
    "\n",
    "def split_coordinates(coord_string):\n",
    "    return [int(x) for x in coord_string.strip('[]').split()]\n",
    "\n",
    "positions['position'] = positions['position'].apply(split_coordinates)\n",
    "\n",
    "positions['x'] = positions['position'].apply(lambda x: x[0])\n",
    "positions['y'] = positions['position'].apply(lambda x: x[1])\n",
    "positions['z'] = positions['position'].apply(lambda x: x[2])\n",
    "\n",
    "position_Info_List = ['root_id', 'x', 'y', 'z']\n",
    "positions = positions[position_Info_List]\n"
   ]
  },
  {
   "cell_type": "code",
   "execution_count": 5,
   "metadata": {},
   "outputs": [],
   "source": [
    "Optic_neurons_Right = neroInfo[(neroInfo['super_class'] == 'optic') & (neroInfo['side'] == 'right')]\n",
    "Sensory_neurons_Right = neroInfo[(neroInfo['super_class'] == 'sensory') & (neroInfo['side'] == 'right')]\n",
    "# Sensory_neurons_Right['cell_type'].unique()"
   ]
  },
  {
   "cell_type": "code",
   "execution_count": 6,
   "metadata": {},
   "outputs": [],
   "source": [
    "#Retina\n",
    "# R1-R6\n",
    "R1_6_Right_Info = Sensory_neurons_Right[Sensory_neurons_Right['cell_type'] == 'R1-6'] \n",
    "R1_6_Right_Info = R1_6_Right_Info[['root_id']]\n",
    "\n",
    "# R7-8\n",
    "R7_8_List = ['R7', 'R8']\n",
    "R7_8_Right_Info = Sensory_neurons_Right[Sensory_neurons_Right['cell_type'].isin(R7_8_List)]\n",
    "R7_8_Right_Info = R7_8_Right_Info[['root_id']]\n",
    "\n",
    "#ocellar_retinula_cell\n",
    "ocellar_retinula_Right_Info = Sensory_neurons_Right[Sensory_neurons_Right['cell_type'] == 'ocellar_retinula_cell']\n",
    "ocellar_retinula_Right_Info = ocellar_retinula_Right_Info[['root_id']]\n",
    "\n",
    "#Lamina\n",
    "# L1-5\n",
    "L1_5_Right_Info = Optic_neurons_Right[Optic_neurons_Right['sub_class'] == 'L1-5'] \n",
    "L1_5_Right_Info = L1_5_Right_Info[['root_id']]\n",
    "\n",
    "# ***T1-3***\n",
    "T1_3_List = ['T1', 'T2', 'T3']\n",
    "T1_3_Right_Info = Optic_neurons_Right[Optic_neurons_Right['cell_type'].isin(T1_3_List)]\n",
    "T1_3_Right_Info = T1_3_Right_Info[['root_id']]\n",
    "\n",
    "# amacrine\n",
    "Am_Right_Info = Optic_neurons_Right[Optic_neurons_Right['cell_type'] == 'Am'] \n",
    "Am_Right_Info = Am_Right_Info[['root_id']]\n",
    "\n",
    "#C2-3\n",
    "C2_3_List = ['C2', 'C3']\n",
    "C2_3_Right_Info = Optic_neurons_Right[Optic_neurons_Right['cell_type'].isin(C2_3_List)]\n",
    "C2_3_Right_Info = C2_3_Right_Info[['root_id']]\n",
    "\n",
    "\n"
   ]
  },
  {
   "cell_type": "code",
   "execution_count": 9,
   "metadata": {},
   "outputs": [],
   "source": [
    "Region_Retina = {\n",
    "    'R1_6_Right_Info': R1_6_Right_Info,\n",
    "    'R7_8_Right_Info': R7_8_Right_Info,\n",
    "    'ocellar_retinula_Right_Info': ocellar_retinula_Right_Info\n",
    "}\n",
    "\n",
    "Region_Lamina = {\n",
    "    'L1_5_Right_Info': L1_5_Right_Info,\n",
    "    'T1_3_Right_Info': T1_3_Right_Info,\n",
    "    'Am_Right_Info' : Am_Right_Info,\n",
    "    'C2_3_Right_Info': C2_3_Right_Info\n",
    "}"
   ]
  },
  {
   "cell_type": "code",
   "execution_count": 11,
   "metadata": {},
   "outputs": [],
   "source": [
    "__all__ = ['Region_Retina', 'Region_Lamina']"
   ]
  }
 ],
 "metadata": {
  "kernelspec": {
   "display_name": "connectome_data",
   "language": "python",
   "name": "python3"
  },
  "language_info": {
   "codemirror_mode": {
    "name": "ipython",
    "version": 3
   },
   "file_extension": ".py",
   "mimetype": "text/x-python",
   "name": "python",
   "nbconvert_exporter": "python",
   "pygments_lexer": "ipython3",
   "version": "3.12.4"
  }
 },
 "nbformat": 4,
 "nbformat_minor": 2
}
