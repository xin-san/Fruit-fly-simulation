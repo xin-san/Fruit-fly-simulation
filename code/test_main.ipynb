{
 "cells": [
  {
   "cell_type": "code",
   "execution_count": 46,
   "metadata": {},
   "outputs": [],
   "source": [
    "import nest\n",
    "import csv\n",
    "import pickle\n",
    "import numpy as np\n",
    "import pandas as pd\n",
    "import os\n",
    "from collections import defaultdict\n",
    "import matplotlib.pyplot as plt\n",
    "nest.ResetKernel()"
   ]
  },
  {
   "cell_type": "code",
   "execution_count": 47,
   "metadata": {},
   "outputs": [],
   "source": [
    "class EINetwork:\n",
    "    def __init__(self) -> None:\n",
    "        self.unique_id = []\n",
    "        self.neurons = {}\n",
    "        self.connections = defaultdict(list)\n",
    "        self.num_neurons = 0\n",
    "        \n",
    "        # count of inh and exh synapse\n",
    "        self.nI = 0\n",
    "        self.nE = 0\n",
    "        \n",
    "        self.neuron_model = 'iaf_psc_alpha'\n",
    "        \n",
    "        nest.CopyModel('stdp_synapse_hom', 'e_syn')\n",
    "        nest.CopyModel('static_synapse', 'i_syn')\n",
    "    \n",
    "    def process_and_cache_data_csv(\n",
    "        self,\n",
    "        csv_file_path='../connectome_materials/connections_no_threshold.csv',\n",
    "        cache_file_path='../cache_file/csv_read_to_cache.pkl'\n",
    "    ):\n",
    "        if os.path.exists(cache_file_path):\n",
    "            print('\\n*** Loading connections data from cache... ***')\n",
    "            with open(cache_file_path, 'rb') as f:\n",
    "                self.unique_id, self.connections = pickle.load(f)\n",
    "                return self.unique_id, self.connections\n",
    "            \n",
    "        print('\\n*** Processing CSV file... ***')\n",
    "        \n",
    "        data = pd.read_csv(csv_file_path)\n",
    "        self.unique_id = list(set(data['pre_root_id']).union(set(data['post_root_id'])))\n",
    "        print('\\n*** Unique_id Completed ***')\n",
    "        \n",
    "        def convert_nt_type(nt_type):\n",
    "            return 'i_syn' if nt_type == 'GABA' else 'e_syn'\n",
    "            \n",
    "        grouped = data.groupby('pre_root_id')\n",
    "        for pre_id, group in grouped:\n",
    "            self.connections[pre_id] = group[['post_root_id', 'syn_count', 'nt_type']].values.tolist()\n",
    "            self.connections[pre_id] = [\n",
    "                [post_id, syn_count, convert_nt_type(nt_type)]\n",
    "                for post_id, syn_count, nt_type in self.connections[pre_id]\n",
    "            ]\n",
    "        \n",
    "        print('\\n*** Saving processed data to cache... ***')\n",
    "        with open(cache_file_path, 'wb') as f:\n",
    "            pickle.dump((self.unique_id, self.connections), f)\n",
    "        \n",
    "        return self.unique_id, self.connections\n",
    "            \n",
    "    \n",
    "    def Create_and_Connect(self):\n",
    "        print('\\n*** Creating Neurons... ***')\n",
    "        all_neurons = nest.Create(self.neuron_model, n=len(self.unique_id))\n",
    "        \n",
    "        print(f'\\n*** {len(self.unique_id)} neurons have been created ***')\n",
    "        \n",
    "        print(f'\\n*** Building neurons dictionary... ***')\n",
    "        self.neurons = dict(zip(self.unique_id, all_neurons))\n",
    "        \n",
    "        print(f'\\n*** Dictionary has been created ***')\n",
    "        \n",
    "        print(f'\\n*** Creating Connections ***')\n",
    "        \n",
    "        for pre_id, group in self.connections.items():\n",
    "            \n",
    "            pre_neuron = self.neurons[pre_id]\n",
    "            \n",
    "            group_array = np.array(group)\n",
    "            \n",
    "            post_ids = group_array[:, 0]\n",
    "            syn_counts = group_array[:, 1].astype(int)\n",
    "            nt_types = group_array[:, 2]\n",
    "            \n",
    "            print(post_ids)\n",
    "            break\n",
    "\n",
    "        \n",
    "        \n",
    "        \n",
    "        "
   ]
  },
  {
   "cell_type": "code",
   "execution_count": 48,
   "metadata": {},
   "outputs": [
    {
     "name": "stdout",
     "output_type": "stream",
     "text": [
      "\n",
      "*** Loading connections data from cache... ***\n",
      "\n",
      "*** Creating Neurons... ***\n",
      "\n",
      "*** 138639 neurons have been created ***\n",
      "\n",
      "*** Building neurons dictionary... ***\n",
      "\n",
      "*** Dictionary has been created ***\n",
      "\n",
      "*** Creating Connections ***\n",
      "['720575940609975854' '720575940613059993' '720575940640021838'\n",
      " '720575940619680933' '720575940623935588' '720575940624014524'\n",
      " '720575940622115169' '720575940634848875' '720575940639449459'\n",
      " '720575940618477947' '720575940606217138' '720575940608552405'\n",
      " '720575940621602081' '720575940638313449' '720575940623087507'\n",
      " '720575940621780812' '720575940626718739' '720575940629211500'\n",
      " '720575940621325993' '720575940630382966' '720575940631239491'\n",
      " '720575940632195532' '720575940616986553' '720575940615006119'\n",
      " '720575940616878370' '720575940632824095' '720575940623649560'\n",
      " '720575940635062196' '720575940620124326' '720575940630993423'\n",
      " '720575940640902389' '720575940626630693' '720575940636795620'\n",
      " '720575940632526440' '720575940645723428' '720575940621418573'\n",
      " '720575940645009518' '720575940623587683' '720575940605825666'\n",
      " '720575940633572004' '720575940635713375' '720575940645180196'\n",
      " '720575940633151457' '720575940634502039' '720575940620512950'\n",
      " '720575940627502824' '720575940640198784' '720575940643499060'\n",
      " '720575940618079956' '720575940622736417' '720575940622955561'\n",
      " '720575940621678204' '720575940628606713' '720575940613599129'\n",
      " '720575940620159366' '720575940626979621' '720575940624140531'\n",
      " '720575940627243052' '720575940621116807' '720575940619415089'\n",
      " '720575940627502824' '720575940621888383' '720575940625001735']\n"
     ]
    }
   ],
   "source": [
    "MyNETwork = EINetwork()\n",
    "unique_id, connections = MyNETwork.process_and_cache_data_csv()\n",
    "MyNETwork.Create_and_Connect()\n",
    "\n"
   ]
  },
  {
   "cell_type": "code",
   "execution_count": 49,
   "metadata": {},
   "outputs": [
    {
     "name": "stdout",
     "output_type": "stream",
     "text": [
      "[[720575940609975854, 4, 'e_syn'], [720575940613059993, 5, 'e_syn'], [720575940640021838, 1, 'e_syn'], [720575940619680933, 2, 'e_syn'], [720575940623935588, 4, 'e_syn'], [720575940624014524, 1, 'e_syn'], [720575940622115169, 5, 'e_syn'], [720575940634848875, 17, 'e_syn'], [720575940639449459, 1, 'e_syn'], [720575940618477947, 1, 'e_syn'], [720575940606217138, 1, 'e_syn'], [720575940608552405, 5, 'e_syn'], [720575940621602081, 1, 'e_syn'], [720575940638313449, 1, 'e_syn'], [720575940623087507, 1, 'e_syn'], [720575940621780812, 1, 'e_syn'], [720575940626718739, 5, 'e_syn'], [720575940629211500, 3, 'e_syn'], [720575940621325993, 2, 'e_syn'], [720575940630382966, 1, 'i_syn'], [720575940631239491, 1, 'e_syn'], [720575940632195532, 2, 'e_syn'], [720575940616986553, 5, 'e_syn'], [720575940615006119, 1, 'e_syn'], [720575940616878370, 2, 'e_syn'], [720575940632824095, 1, 'e_syn'], [720575940623649560, 2, 'e_syn'], [720575940635062196, 1, 'e_syn'], [720575940620124326, 8, 'e_syn'], [720575940630993423, 1, 'e_syn'], [720575940640902389, 16, 'e_syn'], [720575940626630693, 2, 'e_syn'], [720575940636795620, 2, 'e_syn'], [720575940632526440, 1, 'e_syn'], [720575940645723428, 3, 'e_syn'], [720575940621418573, 1, 'e_syn'], [720575940645009518, 1, 'e_syn'], [720575940623587683, 1, 'e_syn'], [720575940605825666, 2, 'e_syn'], [720575940633572004, 7, 'e_syn'], [720575940635713375, 5, 'e_syn'], [720575940645180196, 4, 'e_syn'], [720575940633151457, 1, 'e_syn'], [720575940634502039, 2, 'e_syn'], [720575940620512950, 5, 'e_syn'], [720575940627502824, 1, 'e_syn'], [720575940640198784, 1, 'e_syn'], [720575940643499060, 3, 'e_syn'], [720575940618079956, 5, 'e_syn'], [720575940622736417, 2, 'e_syn'], [720575940622955561, 2, 'e_syn'], [720575940621678204, 1, 'e_syn'], [720575940628606713, 1, 'e_syn'], [720575940613599129, 3, 'e_syn'], [720575940620159366, 10, 'e_syn'], [720575940626979621, 1, 'e_syn'], [720575940624140531, 4, 'e_syn'], [720575940627243052, 1, 'e_syn'], [720575940621116807, 3, 'e_syn'], [720575940619415089, 1, 'e_syn'], [720575940627502824, 1, 'e_syn'], [720575940621888383, 1, 'e_syn'], [720575940625001735, 1, 'e_syn']]\n"
     ]
    }
   ],
   "source": [
    "for key in MyNETwork.connections.keys():\n",
    "    print(MyNETwork.connections[key])\n",
    "    break"
   ]
  },
  {
   "cell_type": "code",
   "execution_count": 50,
   "metadata": {},
   "outputs": [
    {
     "name": "stdout",
     "output_type": "stream",
     "text": [
      "138005\n"
     ]
    }
   ],
   "source": [
    "print(len(connections.keys()))"
   ]
  },
  {
   "cell_type": "code",
   "execution_count": 51,
   "metadata": {},
   "outputs": [
    {
     "name": "stdout",
     "output_type": "stream",
     "text": [
      "138639\n"
     ]
    }
   ],
   "source": [
    "print(len(unique_id))"
   ]
  },
  {
   "cell_type": "code",
   "execution_count": null,
   "metadata": {},
   "outputs": [],
   "source": []
  }
 ],
 "metadata": {
  "kernelspec": {
   "display_name": "connectome_data",
   "language": "python",
   "name": "python3"
  },
  "language_info": {
   "codemirror_mode": {
    "name": "ipython",
    "version": 3
   },
   "file_extension": ".py",
   "mimetype": "text/x-python",
   "name": "python",
   "nbconvert_exporter": "python",
   "pygments_lexer": "ipython3",
   "version": "3.12.3"
  }
 },
 "nbformat": 4,
 "nbformat_minor": 2
}
