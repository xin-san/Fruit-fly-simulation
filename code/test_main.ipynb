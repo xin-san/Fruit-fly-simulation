{
 "cells": [
  {
   "cell_type": "code",
   "execution_count": 66,
   "metadata": {},
   "outputs": [],
   "source": [
    "import nest\n",
    "import csv\n",
    "import pickle\n",
    "import numpy as np\n",
    "import pandas as pd\n",
    "import os\n",
    "from collections import defaultdict\n",
    "import matplotlib.pyplot as plt\n",
    "nest.ResetKernel()"
   ]
  },
  {
   "cell_type": "code",
   "execution_count": 67,
   "metadata": {},
   "outputs": [],
   "source": [
    "class EINetwork:\n",
    "    def __init__(self) -> None:\n",
    "        self.unique_id = []\n",
    "        self.neurons = {}\n",
    "        self.connections = defaultdict(list)\n",
    "        self.num_neurons = 0\n",
    "        \n",
    "        # count of inh and exh synapse\n",
    "        self.nI = 0\n",
    "        self.nE = 0\n",
    "        \n",
    "        self.neuron_model = 'iaf_psc_alpha'\n",
    "        \n",
    "        nest.CopyModel('stdp_synapse_hom', 'e_syn')\n",
    "        nest.CopyModel('static_synapse', 'i_syn')\n",
    "    \n",
    "    def process_and_cache_data_csv(\n",
    "        self,\n",
    "        csv_file_path='../connectome_materials/connections_no_threshold.csv',\n",
    "        cache_file_path='../cache_file/csv_read_to_cache.pkl'\n",
    "    ):\n",
    "        if os.path.exists(cache_file_path):\n",
    "            print('\\n*** Loading connections data from cache... ***')\n",
    "            with open(cache_file_path, 'rb') as f:\n",
    "                self.unique_id, self.connections = pickle.load(f)\n",
    "                return self.unique_id, self.connections\n",
    "            \n",
    "        print('\\n*** Processing CSV file... ***')\n",
    "        \n",
    "        data = pd.read_csv(csv_file_path)\n",
    "        data = data.drop_duplicates(subset=['pre_root_id', 'post_root_id'], keep='last')\n",
    "        self.unique_id = list(set(data['pre_root_id']).union(set(data['post_root_id'])))\n",
    "        print('\\n*** Unique_id Completed ***')\n",
    "        \n",
    "        def convert_nt_type(nt_type):\n",
    "            return 'i_syn' if nt_type == 'GABA' else 'e_syn'\n",
    "            \n",
    "        grouped = data.groupby('pre_root_id')\n",
    "        for pre_id, group in grouped:\n",
    "            self.connections[pre_id] = group[['post_root_id', 'syn_count', 'nt_type']].values.tolist()\n",
    "            self.connections[pre_id] = [\n",
    "                [post_id, syn_count, convert_nt_type(nt_type)]\n",
    "                for post_id, syn_count, nt_type in self.connections[pre_id]\n",
    "            ]\n",
    "        \n",
    "        print('\\n*** Saving processed data to cache... ***')\n",
    "        with open(cache_file_path, 'wb') as f:\n",
    "            pickle.dump((self.unique_id, self.connections), f)\n",
    "        \n",
    "        return self.unique_id, self.connections\n",
    "            \n",
    "    \n",
    "    def Create_and_Connect(self):\n",
    "        print('\\n*** Creating Neurons... ***')\n",
    "        all_neurons = nest.Create(self.neuron_model, n=len(self.unique_id))\n",
    "        \n",
    "        print(f'\\n*** {len(self.unique_id)} neurons have been created ***')\n",
    "        \n",
    "        print(f'\\n*** Building neurons dictionary... ***')\n",
    "        self.neurons = dict(zip(self.unique_id, all_neurons))\n",
    "        \n",
    "        print(f'\\n*** Dictionary has been created ***')\n",
    "        \n",
    "        print(f'\\n*** Creating Connections ***')\n",
    "        \n",
    "        for pre_id, group in self.connections.items():\n",
    "            \n",
    "            pre_neuron = self.neurons[pre_id]\n",
    "            group_array = np.array(group)\n",
    "            \n",
    "            post_ids = group_array[:, 0].astype(int)\n",
    "            syn_counts = group_array[:, 1].astype(int)\n",
    "            nt_types = group_array[:, 2]\n",
    "            post_neuron = np.array([self.neurons[post_id] for post_id in post_ids])\n",
    "            post_neuron = post_neuron.flatten()\n",
    "            \n",
    "            return post_neuron, all_neurons\n",
    "            break\n",
    "\n",
    "        \n",
    "        \n",
    "        \n",
    "        "
   ]
  },
  {
   "cell_type": "code",
   "execution_count": 68,
   "metadata": {},
   "outputs": [
    {
     "name": "stdout",
     "output_type": "stream",
     "text": [
      "\n",
      "*** Loading connections data from cache... ***\n",
      "\n",
      "*** Creating Neurons... ***\n",
      "\n",
      "*** 138639 neurons have been created ***\n",
      "\n",
      "*** Building neurons dictionary... ***\n",
      "\n",
      "*** Dictionary has been created ***\n",
      "\n",
      "*** Creating Connections ***\n"
     ]
    }
   ],
   "source": [
    "MyNETwork = EINetwork()\n",
    "unique_id, connections = MyNETwork.process_and_cache_data_csv()\n",
    "post_neuron, all_neurons = MyNETwork.Create_and_Connect()\n",
    "\n"
   ]
  },
  {
   "cell_type": "code",
   "execution_count": 73,
   "metadata": {},
   "outputs": [
    {
     "ename": "NESTErrors.BadProperty",
     "evalue": "BadProperty in SLI function take_array_index",
     "output_type": "error",
     "traceback": [
      "\u001b[0;31m---------------------------------------------------------------------------\u001b[0m",
      "\u001b[0;31mNESTErrors.BadProperty\u001b[0m                    Traceback (most recent call last)",
      "Cell \u001b[0;32mIn[73], line 1\u001b[0m\n\u001b[0;32m----> 1\u001b[0m \u001b[38;5;28mprint\u001b[39m(\u001b[43mall_neurons\u001b[49m\u001b[43m[\u001b[49m\u001b[43mpost_neuron\u001b[49m\u001b[43m]\u001b[49m)\n",
      "File \u001b[0;32m/usr/lib/python3.12/site-packages/nest/lib/hl_api_types.py:282\u001b[0m, in \u001b[0;36mNodeCollection.__getitem__\u001b[0;34m(self, key)\u001b[0m\n\u001b[1;32m    280\u001b[0m     \u001b[38;5;28;01mif\u001b[39;00m \u001b[38;5;129;01mnot\u001b[39;00m is_booltype \u001b[38;5;129;01mand\u001b[39;00m \u001b[38;5;28mlen\u001b[39m(numpy\u001b[38;5;241m.\u001b[39munique(key)) \u001b[38;5;241m!=\u001b[39m \u001b[38;5;28mlen\u001b[39m(key):\n\u001b[1;32m    281\u001b[0m         \u001b[38;5;28;01mraise\u001b[39;00m \u001b[38;5;167;01mValueError\u001b[39;00m(\u001b[38;5;124m\"\u001b[39m\u001b[38;5;124mAll node IDs in a NodeCollection have to be unique\u001b[39m\u001b[38;5;124m\"\u001b[39m)\n\u001b[0;32m--> 282\u001b[0m     \u001b[38;5;28;01mreturn\u001b[39;00m \u001b[43mtake_array_index\u001b[49m\u001b[43m(\u001b[49m\u001b[38;5;28;43mself\u001b[39;49m\u001b[38;5;241;43m.\u001b[39;49m\u001b[43m_datum\u001b[49m\u001b[43m,\u001b[49m\u001b[43m \u001b[49m\u001b[43mkey\u001b[49m\u001b[43m)\u001b[49m\n\u001b[1;32m    283\u001b[0m \u001b[38;5;28;01melse\u001b[39;00m:\n\u001b[1;32m    284\u001b[0m     \u001b[38;5;28;01mraise\u001b[39;00m \u001b[38;5;167;01mIndexError\u001b[39;00m(\u001b[38;5;124m\"\u001b[39m\u001b[38;5;124monly integers, slices, lists, tuples, and numpy arrays are valid indices\u001b[39m\u001b[38;5;124m\"\u001b[39m)\n",
      "File \u001b[0;32mpynestkernel.pyx:282\u001b[0m, in \u001b[0;36mpynestkernel.NESTEngine.take_array_index\u001b[0;34m()\u001b[0m\n",
      "\u001b[0;31mNESTErrors.BadProperty\u001b[0m: BadProperty in SLI function take_array_index"
     ]
    }
   ],
   "source": [
    "print(all_neurons[post_neuron])"
   ]
  },
  {
   "cell_type": "code",
   "execution_count": null,
   "metadata": {},
   "outputs": [],
   "source": []
  }
 ],
 "metadata": {
  "kernelspec": {
   "display_name": "connectome_data",
   "language": "python",
   "name": "python3"
  },
  "language_info": {
   "codemirror_mode": {
    "name": "ipython",
    "version": 3
   },
   "file_extension": ".py",
   "mimetype": "text/x-python",
   "name": "python",
   "nbconvert_exporter": "python",
   "pygments_lexer": "ipython3",
   "version": "3.12.3"
  }
 },
 "nbformat": 4,
 "nbformat_minor": 2
}
